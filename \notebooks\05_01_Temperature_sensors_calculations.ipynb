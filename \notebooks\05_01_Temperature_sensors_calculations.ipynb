{
  "nbformat": 4,
  "nbformat_minor": 0,
  "metadata": {
    "colab": {
      "provenance": [],
      "authorship_tag": "ABX9TyMA4qUzvs8R7/Yn8GAQO7y/",
      "include_colab_link": true
    },
    "kernelspec": {
      "name": "python3",
      "display_name": "Python 3"
    },
    "language_info": {
      "name": "python"
    }
  },
  "cells": [
    {
      "cell_type": "markdown",
      "metadata": {
        "id": "view-in-github",
        "colab_type": "text"
      },
      "source": [
        "<a href=\"https://colab.research.google.com/github/gmxavier/FAT0413156/blob/master/%5Cnotebooks%5C05_01_Temperature_sensors_calculations.ipynb\" target=\"_parent\"><img src=\"https://colab.research.google.com/assets/colab-badge.svg\" alt=\"Open In Colab\"/></a>"
      ]
    },
    {
      "cell_type": "markdown",
      "source": [
        "## Temperature sensor calculations\n",
        "\n",
        "This notebook introduces the Python packages `pt100`, `thermistor-utils` and `thermocouples_reference` which are very useful options to the temperature sensors tables in order to convert measured resistances of Pt100s and thermistors and voltages of thermocouples in temperatures.\n",
        "\n",
        "*First things first*, let's install the packages."
      ],
      "metadata": {
        "id": "b5cQ74HbuJ7s"
      }
    },
    {
      "cell_type": "code",
      "execution_count": null,
      "metadata": {
        "colab": {
          "base_uri": "https://localhost:8080/"
        },
        "id": "g0RcCH7Utt-d",
        "outputId": "60a5df21-6ced-40c2-f9b3-25a9d43f0082"
      },
      "outputs": [
        {
          "output_type": "stream",
          "name": "stdout",
          "text": [
            "Looking in indexes: https://pypi.org/simple, https://us-python.pkg.dev/colab-wheels/public/simple/\n",
            "Collecting pt100\n",
            "  Downloading pt100-0.1.tar.gz (5.4 kB)\n",
            "Building wheels for collected packages: pt100\n",
            "  Building wheel for pt100 (setup.py) ... \u001b[?25l\u001b[?25hdone\n",
            "  Created wheel for pt100: filename=pt100-0.1-py3-none-any.whl size=5491 sha256=fad188dee0233c8c066060b25a0d18502b9f29595ecc05c6b56f3413584a7e7a\n",
            "  Stored in directory: /root/.cache/pip/wheels/e8/ad/e9/91d485aa61918d7475cf391b79c9c476001885f905e38ec2ed\n",
            "Successfully built pt100\n",
            "Installing collected packages: pt100\n",
            "Successfully installed pt100-0.1\n",
            "Looking in indexes: https://pypi.org/simple, https://us-python.pkg.dev/colab-wheels/public/simple/\n",
            "Collecting thermistor_utils\n",
            "  Downloading thermistor_utils-0.0.4-py3-none-any.whl (8.4 kB)\n",
            "Installing collected packages: thermistor-utils\n",
            "Successfully installed thermistor-utils-0.0.4\n",
            "Looking in indexes: https://pypi.org/simple, https://us-python.pkg.dev/colab-wheels/public/simple/\n",
            "Collecting thermocouples_reference\n",
            "  Downloading thermocouples_reference-0.20.tar.gz (17 kB)\n",
            "Requirement already satisfied: numpy in /usr/local/lib/python3.8/dist-packages (from thermocouples_reference) (1.21.6)\n",
            "Building wheels for collected packages: thermocouples-reference\n",
            "  Building wheel for thermocouples-reference (setup.py) ... \u001b[?25l\u001b[?25hdone\n",
            "  Created wheel for thermocouples-reference: filename=thermocouples_reference-0.20-py3-none-any.whl size=19567 sha256=bc02205e1914a61dabcab8f542cbc595f8c387208e3951a05d1be850216dabad\n",
            "  Stored in directory: /root/.cache/pip/wheels/9a/69/80/b02b6da6f6f636238b96181608a05b6dacc60b9e81ab1b23f5\n",
            "Successfully built thermocouples-reference\n",
            "Installing collected packages: thermocouples-reference\n",
            "Successfully installed thermocouples-reference-0.20\n"
          ]
        }
      ],
      "source": [
        "!pip install pt100\n",
        "!pip install thermistor_utils\n",
        "!pip install thermocouples_reference"
      ]
    },
    {
      "cell_type": "markdown",
      "source": [
        "Now, let's obtain the temperatures from the measured values of the following resistances from the table below.\n",
        "\n",
        "![](https://media.cheggcdn.com/media/daa/s622x614/daa4b552-03ab-447c-abf4-da091f7a96d9/phpaqN1mQ.png)\n",
        "\n",
        "Using the table, we can see that for measured resistances of 53.75, 100.00 and 116.70 ohm the temperatures are -116.00, 0.00 and 43.00 degC, respectively. \n",
        "\n",
        "The same results are obtained by calling the function `interp_resist_to_temp_np` from the Python package `pt100` as below:"
      ],
      "metadata": {
        "id": "HUXNRBv6vXYV"
      }
    },
    {
      "cell_type": "code",
      "source": [
        "from pt100.lookuptable import *\n",
        "interp_resist_to_temp_np([53.75, 100.00, 116.70])"
      ],
      "metadata": {
        "colab": {
          "base_uri": "https://localhost:8080/"
        },
        "id": "YwjpJ-D7xIan",
        "outputId": "9d148914-3fb5-4efe-e190-41d2705225e5"
      },
      "execution_count": null,
      "outputs": [
        {
          "output_type": "execute_result",
          "data": {
            "text/plain": [
              "array([-115.97560976,    0.        ,   43.        ])"
            ]
          },
          "metadata": {},
          "execution_count": 2
        }
      ]
    },
    {
      "cell_type": "markdown",
      "source": [
        "Now, let's obtain the temperature from a Vishay NTCAIMME3 thermistor measured resistance of 5323.9 ohm.\n",
        "\n",
        "First we need to consult the thermistor datasheet [here](https://www.vishay.com/doc?29131) and get the values of `beta`, `R0` and `T0` in order to setup the `Beta_converter` of the Python package `thermistor-utils`."
      ],
      "metadata": {
        "id": "ustAVYCYByq3"
      }
    },
    {
      "cell_type": "code",
      "source": [
        "from thermistor_utils import Beta_converter\n",
        "beta, R0, T0 = (3984, 10000, 25)\n",
        "NTCAIMME3 = Beta_converter(beta, R0, T0)"
      ],
      "metadata": {
        "id": "xdYtGLvzCiL5"
      },
      "execution_count": null,
      "outputs": []
    },
    {
      "cell_type": "markdown",
      "source": [
        "Then, using this `Beta_converter` and the measured resistance value, we can obtain the temperature in degC as following:"
      ],
      "metadata": {
        "id": "8LoNB6ubGdxG"
      }
    },
    {
      "cell_type": "code",
      "source": [
        "NTCAIMME3.temperature(5323.9)"
      ],
      "metadata": {
        "colab": {
          "base_uri": "https://localhost:8080/"
        },
        "id": "pzTvlFgkHcm3",
        "outputId": "838b6201-94f6-4405-a072-73706aee1b75"
      },
      "execution_count": null,
      "outputs": [
        {
          "output_type": "execute_result",
          "data": {
            "text/plain": [
              "39.76179385826248"
            ]
          },
          "metadata": {},
          "execution_count": 4
        }
      ]
    },
    {
      "cell_type": "markdown",
      "source": [
        "From the thermistor datasheet\n",
        "\n"
      ],
      "metadata": {
        "id": "9vDETbArHtkB"
      }
    },
    {
      "cell_type": "markdown",
      "source": [
        "Now, let's obtain the temperature from a type J thermocouple measured voltage of 1.019 mV.\n",
        "\n",
        "![](https://i.stack.imgur.com/5e3MN.png)\n",
        "\n",
        "Using the table, we can see that for this measured voltage the temperature is 20 degC.\n",
        "\n",
        "The same result is obtained by calling the function `inverse_CmV` from the module `thermocouples` of the Python package `thermocouples_reference` as below:"
      ],
      "metadata": {
        "id": "gpfDQDdV3ne8"
      }
    },
    {
      "cell_type": "code",
      "source": [
        "from thermocouples_reference import thermocouples\n",
        "typeK = thermocouples['E']\n",
        "typeK.inverse_FmV(-7.574, Tref=61.0)"
      ],
      "metadata": {
        "colab": {
          "base_uri": "https://localhost:8080/"
        },
        "id": "3pG9srgm4uAB",
        "outputId": "ad0142ba-0f05-449e-bdde-688114e52da9"
      },
      "execution_count": null,
      "outputs": [
        {
          "output_type": "execute_result",
          "data": {
            "text/plain": [
              "-206.55406674816834"
            ]
          },
          "metadata": {},
          "execution_count": 7
        }
      ]
    },
    {
      "cell_type": "markdown",
      "source": [
        "Addionally, we can obtain the voltage generated by the type J thermocouple when its measuring junction is at 20 degC and its reference junction is at 0 degC by calling `emf_mVC` from the module `thermocouples` of the Python package `thermocouples_reference` as below:"
      ],
      "metadata": {
        "id": "XVPfBKqo6KSM"
      }
    },
    {
      "cell_type": "code",
      "source": [
        "typeK.emf_mVF(-206.554066, Tref=61.0)"
      ],
      "metadata": {
        "colab": {
          "base_uri": "https://localhost:8080/"
        },
        "id": "Q_wLBqLi6xF5",
        "outputId": "a739ac75-2cf7-438d-fa18-bc9a026668d3"
      },
      "execution_count": null,
      "outputs": [
        {
          "output_type": "execute_result",
          "data": {
            "text/plain": [
              "-7.573999983560548"
            ]
          },
          "metadata": {},
          "execution_count": 8
        }
      ]
    },
    {
      "cell_type": "code",
      "source": [
        "typeS = thermocouples['S']\n",
        "typeS.emf_mVF(2650)"
      ],
      "metadata": {
        "colab": {
          "base_uri": "https://localhost:8080/"
        },
        "id": "oLKRUliqD1Gt",
        "outputId": "ce0f42ed-46b7-4194-ed5f-cc50a86bcb0c"
      },
      "execution_count": null,
      "outputs": [
        {
          "output_type": "execute_result",
          "data": {
            "text/plain": [
              "15.032026283601528"
            ]
          },
          "metadata": {},
          "execution_count": 9
        }
      ]
    },
    {
      "cell_type": "code",
      "source": [
        "typeS.emf_mVF(70.8)"
      ],
      "metadata": {
        "colab": {
          "base_uri": "https://localhost:8080/"
        },
        "id": "jJME6iQmNMlu",
        "outputId": "3657f7fa-be36-41e0-ea13-b2adb8c8f81d"
      },
      "execution_count": null,
      "outputs": [
        {
          "output_type": "execute_result",
          "data": {
            "text/plain": [
              "0.12209293076151756"
            ]
          },
          "metadata": {},
          "execution_count": 11
        }
      ]
    },
    {
      "cell_type": "code",
      "source": [
        "typeK.emf_mVF(570)"
      ],
      "metadata": {
        "colab": {
          "base_uri": "https://localhost:8080/"
        },
        "id": "KIBGK_U_FBpr",
        "outputId": "f2c72da0-e3d6-47f5-85df-46b57a912dfe"
      },
      "execution_count": null,
      "outputs": [
        {
          "output_type": "execute_result",
          "data": {
            "text/plain": [
              "20.94969109160872"
            ]
          },
          "metadata": {},
          "execution_count": 13
        }
      ]
    },
    {
      "cell_type": "code",
      "source": [
        "typeK.inverse_FmV(16.266)"
      ],
      "metadata": {
        "colab": {
          "base_uri": "https://localhost:8080/"
        },
        "id": "dUMhfEXmEiXe",
        "outputId": "e648d0ac-b5f1-478a-eb62-e2edff34b1e6"
      },
      "execution_count": null,
      "outputs": [
        {
          "output_type": "execute_result",
          "data": {
            "text/plain": [
              "460.3402745765236"
            ]
          },
          "metadata": {},
          "execution_count": 14
        }
      ]
    },
    {
      "cell_type": "markdown",
      "source": [
        "But if we read a voltage of 0.518 mV at the digital voltmeter when the reference juntion is at 20 degC, what is the temperature in degC at the measuring junction of a type J thermocouple?\n",
        "\n",
        "The answer can be easily obtained by calling the function `inverse_CmV` from the module `thermocouples` of the Python package `thermocouples_reference` as below:"
      ],
      "metadata": {
        "id": "f6atykUD7r0G"
      }
    },
    {
      "cell_type": "code",
      "source": [
        "typeK.inverse_CmV(0.518, Tref=20.0)"
      ],
      "metadata": {
        "colab": {
          "base_uri": "https://localhost:8080/"
        },
        "id": "_n3olxRi8jND",
        "outputId": "5a9dcb67-d328-4755-d21f-c4d3e5eef775"
      },
      "execution_count": null,
      "outputs": [
        {
          "output_type": "execute_result",
          "data": {
            "text/plain": [
              "28.508092197162053"
            ]
          },
          "metadata": {},
          "execution_count": 15
        }
      ]
    }
  ]
}