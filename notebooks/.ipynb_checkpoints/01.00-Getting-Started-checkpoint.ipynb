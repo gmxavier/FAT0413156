{
 "cells": [
  {
   "cell_type": "markdown",
   "metadata": {},
   "source": [
    "<!--NOTEBOOK_HEADER-->\n",
    "*This notebook contains course material from [FAT0413156](https://gmxavier.github.io/FAT0413156)\n",
    "by Gilberto Xavier (gmxavier at fat.uerj.br); the content is available [on Github](https://github.com/gmxavier/FAT0413156.git).\n",
    "The text is released under the [CC-BY-NC-SA-4.0 license](https://creativecommons.org/licenses/by-nc-sa/4.0/legalcode),\n",
    "and code is released under the [MIT license](https://opensource.org/licenses/MIT).*"
   ]
  },
  {
   "cell_type": "markdown",
   "metadata": {},
   "source": [
    "<!--NAVIGATION-->\n",
    "| [Contents](toc.ipynb) | [Introduction](http://nbviewer.jupyter.org/github/gmxavier/FAT0413156/blob/master/notebooks/02.00-Introduction.ipynb) ><p><a href=\"https://colab.research.google.com/github/gmxavier/FAT0413156/blob/master/notebooks/01.00-Getting-Started.ipynb\" target=\"_parent\"><img align=\"left\" src=\"https://colab.research.google.com/assets/colab-badge.svg\" alt=\"Open in Colab\" title=\"Open in Google Colaboratory\"></a><p><a href=\"https://raw.githubusercontent.com/gmxavier/FAT0413156/master/notebooks/01.00-Getting-Started.ipynb\" target=\"_parent\"><img align=\"left\" src=\"https://img.shields.io/badge/Github-Download-blue.svg\" alt=\"Download\" title=\"Download Notebook\"></a>"
   ]
  },
  {
   "cell_type": "markdown",
   "metadata": {},
   "source": [
    "# Getting started"
   ]
  },
  {
   "cell_type": "markdown",
   "metadata": {},
   "source": [
    "Reading: Jeffrey Kantor's [*CBE30338*: Chapter 1.0](https://nbviewer.jupyter.org/github/jckantor/CBE30338/blob/master/notebooks/01.00-Getting-Started.ipynb)\n",
    "\n",
    "Instructions: Click the link above and read this chapter. Chapter 1.0 get you started using Python and Jupyter Notebooks for routine industrial instrumentation calculations.\n",
    "\n",
    "Reading this chapter should take approximately ?? minutes.\n",
    "\n",
    "Terms of use: This work is licensed under terms of the [CC-BY-NC-ND-4.0 license](http://creativecommons.org/licenses/by-nc-nd/4.0/). It is attributed to Jeffrey Kantor."
   ]
  },
  {
   "cell_type": "markdown",
   "metadata": {},
   "source": [
    "<!--NAVIGATION-->\n",
    "| [Contents](toc.ipynb) | [Introduction](http://nbviewer.jupyter.org/github/gmxavier/FAT0413156/blob/master/notebooks/02.00-Introduction.ipynb) ><p><a href=\"https://colab.research.google.com/github/gmxavier/FAT0413156/blob/master/notebooks/01.00-Getting-Started.ipynb\" target=\"_parent\"><img align=\"left\" src=\"https://colab.research.google.com/assets/colab-badge.svg\" alt=\"Open in Colab\" title=\"Open in Google Colaboratory\"></a><p><a href=\"https://raw.githubusercontent.com/gmxavier/FAT0413156/master/notebooks/01.00-Getting-Started.ipynb\" target=\"_parent\"><img align=\"left\" src=\"https://img.shields.io/badge/Github-Download-blue.svg\" alt=\"Download\" title=\"Download Notebook\"></a>"
   ]
  }
 ],
 "metadata": {
  "kernelspec": {
   "display_name": "Python 3",
   "language": "python",
   "name": "python3"
  },
  "language_info": {
   "codemirror_mode": {
    "name": "ipython",
    "version": 3
   },
   "file_extension": ".py",
   "mimetype": "text/x-python",
   "name": "python",
   "nbconvert_exporter": "python",
   "pygments_lexer": "ipython3",
   "version": "3.7.3"
  }
 },
 "nbformat": 4,
 "nbformat_minor": 2
}
