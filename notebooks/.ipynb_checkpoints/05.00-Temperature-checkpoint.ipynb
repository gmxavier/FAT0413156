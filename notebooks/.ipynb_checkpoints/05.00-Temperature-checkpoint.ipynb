{
 "cells": [
  {
   "cell_type": "markdown",
   "metadata": {},
   "source": [
    "<!--NOTEBOOK_HEADER-->\n",
    "*This notebook contains course material from [FAT0413156](https://gmxavier.github.io/FAT0413156)\n",
    "by Gilberto Xavier (gmxavier at fat.uerj.br); the content is available [on Github](https://github.com/gmxavier/FAT0413156.git).\n",
    "The text is released under the [CC-BY-NC-SA-4.0 license](https://creativecommons.org/licenses/by-nc-sa/4.0/legalcode),\n",
    "and code is released under the [MIT license](https://opensource.org/licenses/MIT).*"
   ]
  },
  {
   "cell_type": "markdown",
   "metadata": {},
   "source": [
    "<!--NAVIGATION-->\n",
    "< [Level measurement](http://nbviewer.jupyter.org/github/gmxavier/FAT0413156/blob/master/notebooks/04.00-Level.ipynb) | [Contents](toc.ipynb) | [Flow measurement](http://nbviewer.jupyter.org/github/gmxavier/FAT0413156/blob/master/notebooks/06.00-Flow.ipynb) ><p><a href=\"https://colab.research.google.com/github/gmxavier/FAT0413156/blob/master/notebooks/05.00-Temperature.ipynb\" target=\"_parent\"><img align=\"left\" src=\"https://colab.research.google.com/assets/colab-badge.svg\" alt=\"Open in Colab\" title=\"Open in Google Colaboratory\"></a><p><a href=\"https://raw.githubusercontent.com/gmxavier/FAT0413156/master/notebooks/05.00-Temperature.ipynb\" target=\"_parent\"><img align=\"left\" src=\"https://img.shields.io/badge/Github-Download-blue.svg\" alt=\"Download\" title=\"Download Notebook\"></a>"
   ]
  },
  {
   "cell_type": "markdown",
   "metadata": {},
   "source": [
    "# Temperature measurement"
   ]
  },
  {
   "cell_type": "markdown",
   "metadata": {},
   "source": [
    "## Continuous temperature measurement\n",
    "\n",
    "Reading: Tony R. Kuphaldt's [*Lessons in Industrial Instrumentation*: Chapter 21](https://www.ibiblio.org/kuphaldt/socratic/sinst/book/liii_2v32.pdf#page=1540)\n",
    "\n",
    "Instructions: Click the link above and read this chapter. Chapter 21 explores the continuous temperature measurement subject.\n",
    "\n",
    "Reading this chapter should take approximately ?? minutes.\n",
    "\n",
    "Terms of use: This work is licensed under terms of the [CC-BY-4.0 license](http://creativecommons.org/licenses/by/4.0/). It is attributed to Tony R. Kuphaldt.\n",
    "\n",
    "Supplementary material:\n",
    "- [Temperature measurement at Wikipedia](https://en.wikipedia.org/wiki/Temperature_measurement)\n",
    "\n",
    "## Discrete temperature measurement\n",
    "\n",
    "Reading: Tony R. Kuphaldt's [*Lessons in Industrial Instrumentation*: Section 9.7](https://www.ibiblio.org/kuphaldt/socratic/sinst/book/liii_2v32.pdf#page=711)\n",
    "\n",
    "Instructions: Click the link above and read this section. Section 9.7 provides a glance about temperature switches.\n",
    "\n",
    "Reading this section should take approximately ?? minutes.\n",
    "\n",
    "Terms of use: This work is licensed under terms of the [CC-BY-4.0 license](http://creativecommons.org/licenses/by/4.0/). It is attributed to Tony R. Kuphaldt.\n",
    "\n",
    "## Exercises\n",
    "\n",
    "Try to solve the problems listed [here](https://doc.lagout.org/electronics/Fundamentals%20of%20Industrial%20Instrumentation%20and%20Process%20Control%20%5Bby%20William%20Dunn%5D.pdf) on page 138.\n",
    "\n",
    "Tip: Take a look [here](https://www.ibiblio.org/kuphaldt/socratic/sinst/book/liii_2v32.pdf#page=87) to get some conversion factors."
   ]
  },
  {
   "cell_type": "markdown",
   "metadata": {},
   "source": [
    "<!--NAVIGATION-->\n",
    "< [Level measurement](http://nbviewer.jupyter.org/github/gmxavier/FAT0413156/blob/master/notebooks/04.00-Level.ipynb) | [Contents](toc.ipynb) | [Flow measurement](http://nbviewer.jupyter.org/github/gmxavier/FAT0413156/blob/master/notebooks/06.00-Flow.ipynb) ><p><a href=\"https://colab.research.google.com/github/gmxavier/FAT0413156/blob/master/notebooks/05.00-Temperature.ipynb\" target=\"_parent\"><img align=\"left\" src=\"https://colab.research.google.com/assets/colab-badge.svg\" alt=\"Open in Colab\" title=\"Open in Google Colaboratory\"></a><p><a href=\"https://raw.githubusercontent.com/gmxavier/FAT0413156/master/notebooks/05.00-Temperature.ipynb\" target=\"_parent\"><img align=\"left\" src=\"https://img.shields.io/badge/Github-Download-blue.svg\" alt=\"Download\" title=\"Download Notebook\"></a>"
   ]
  }
 ],
 "metadata": {
  "kernelspec": {
   "display_name": "Python 3",
   "language": "python",
   "name": "python3"
  },
  "language_info": {
   "codemirror_mode": {
    "name": "ipython",
    "version": 3
   },
   "file_extension": ".py",
   "mimetype": "text/x-python",
   "name": "python",
   "nbconvert_exporter": "python",
   "pygments_lexer": "ipython3",
   "version": "3.7.3"
  }
 },
 "nbformat": 4,
 "nbformat_minor": 2
}
