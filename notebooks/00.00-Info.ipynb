{
  "nbformat": 4,
  "nbformat_minor": 0,
  "metadata": {
    "kernelspec": {
      "display_name": "Python 3",
      "language": "python",
      "name": "python3"
    },
    "language_info": {
      "codemirror_mode": {
        "name": "ipython",
        "version": 3
      },
      "file_extension": ".py",
      "mimetype": "text/x-python",
      "name": "python",
      "nbconvert_exporter": "python",
      "pygments_lexer": "ipython3",
      "version": "3.7.3"
    },
    "colab": {
      "name": "00.00-Info.ipynb",
      "provenance": []
    }
  },
  "cells": [
    {
      "cell_type": "markdown",
      "metadata": {
        "id": "hNZMtWAEYz5r"
      },
      "source": [
        "<!--NOTEBOOK_HEADER-->\n",
        "*This notebook contains course material from [FAT0413156](https://gmxavier.github.io/FAT0413156)\n",
        "by Gilberto Xavier (gmxavier at fat.uerj.br); the content is available [on Github](https://github.com/gmxavier/FAT0413156.git).\n",
        "The text is released under the [CC-BY-NC-SA-4.0 license](https://creativecommons.org/licenses/by-nc-sa/4.0/legalcode),\n",
        "and code is released under the [MIT license](https://opensource.org/licenses/MIT).*"
      ]
    },
    {
      "cell_type": "markdown",
      "metadata": {
        "id": "v0A3nRTCYz5t"
      },
      "source": [
        "<!--NAVIGATION-->\n",
        "| [Contents](toc.ipynb) | [Getting Started](http://nbviewer.jupyter.org/github/gmxavier/FAT0413156/blob/master/notebooks/01.00-Getting-Started.ipynb) ><p><a href=\"https://colab.research.google.com/github/gmxavier/FAT0413156/blob/master/notebooks/00.00-Info.ipynb\" target=\"_parent\"><img align=\"left\" src=\"https://colab.research.google.com/assets/colab-badge.svg\" alt=\"Open in Colab\" title=\"Open in Google Colaboratory\"></a><p><a href=\"https://raw.githubusercontent.com/gmxavier/FAT0413156/master/notebooks/00.00-Info.ipynb\" target=\"_parent\"><img align=\"left\" src=\"https://img.shields.io/badge/Github-Download-blue.svg\" alt=\"Download\" title=\"Download Notebook\"></a>"
      ]
    },
    {
      "cell_type": "markdown",
      "metadata": {
        "id": "CCD_aRbMYz5u"
      },
      "source": [
        "# Instrumentação de Processos Químicos"
      ]
    },
    {
      "cell_type": "markdown",
      "metadata": {
        "id": "J1EOdhOeYz5u"
      },
      "source": [
        "Prof. Gilberto M. Xavier  \n",
        "Código SAG: *FAT04-13156*\n",
        "\n",
        "## Tópicos da ementa\n",
        "\n",
        "* Conceitos de identificação e simbologias usadas na representação de sistemas de instrumentação e de medição;\n",
        "* Medição de pressão;\n",
        "* Medição de temperatura;\n",
        "* Medição de nível;\n",
        "* Medição de vazão;\n",
        "* Dimensionamento de elementos primários de vazão;\n",
        "* Transmissão pneumática e eletrônica;\n",
        "* Sistema digital de controle distribuído - SDCD;\n",
        "* Válvulas de controle e de segurança;\n",
        "* Uso de \"softwares\" para estudo de características e dimensionamento de instrumentos, e;\n",
        "* Sensores de concentração e sensores físico-químicos.\n",
        "\n",
        "## Livro texto e bibliografia recomendada\n",
        "\n",
        "* KUPHALDT, A. R., LESSONS IN INDUSTRIAL INSTRUMENTATION, VERSION 2.32, 2019. \n",
        "   \n",
        "   \n",
        "* LIPTAK, B. G., INSTRUMENT ENGINEERS' HANDBOOK: PROCESS MEASUREMENT AND ANALYSIS, 4TH EDITION, VOL. 1; CRC PRESS, 2006.\n",
        "* LIPTAK, B. G., INSTRUMENT ENGINEERS' HANDBOOK: PROCESS CONTROL AND OPTIMIZATION, 4TH EDITION, VOL. 2; CRC PRESS, 2006.\n",
        "* NAGY, I., INTRODUCTION TO CHEMICAL PROCESS INSTRUMENTATION, ELSEVIER, 1992.\n",
        "* CONNEL, B., PROCESS INSTRUMENTATION APPLICATIONS MANUAL, MCGRAW HILL, 1996.\n",
        "\n",
        "## Descrição da disciplina\n",
        "\n",
        "Esta disciplina visa capacitar o aluno na análise e avaliação das características dos sistemas de instrumentação e de medição utilizados em indústrias químicas, além de capacitá-lo na seleção dos instrumentos e sensores adequados à medição das variáveis de processo e também no projeto de sistemas de instrumentação para emprego em indústrias químicas. Quanto à utilização de ferramentas computacionais, os cálculos serão implementados e realizados usando a linguagem [Python](https://www.python.org/). O aprendizado do Python é desejável, pois a linguagem também será utilizada subsequentemente na disciplina [Controle de Processos Químicos](http://www.ementario.uerj.br/ementa.php?cdg_disciplina=13150).\n",
        "\n",
        "## Metodologia do curso\n",
        "\n",
        "O curso desta disciplina será oferecido com as seguintes características e ferramentas:   \n",
        "\n",
        "* No período letivo 2022/1, as aulas presenciais ocorrerão aos sábados de 7h50m às 11h30m.\n",
        "* Todo o material da disciplina será acessado por intermédio do [GitHub](https://github.com/gmxavier/FAT0413156) ou do [Google Classroom](https://classroom.google.com/);\n",
        "* O material utilizado encontra-se redigido na língua inglesa, entretanto, todo o curso será ministrado na língua portuguesa;   \n",
        "* As avaliações da disciplina ocorrerão nas datas previstas no programa da disciplina, sendo a média do período ($MP$) calculada da seguinte forma:\n",
        "\n",
        "$$ MP=\\frac{P1+P2}{2} $$\n",
        "\n",
        "* O(a) aluno(a) com frequência inferior a 75% será automaticamente reprovado(a) por falta, independente das notas que obtiver nas avaliações;\n",
        "* O(a) aluno(a) que obtiver $MP \\geq 7.0$ será considerado(a) aprovado(a) por nota, enquanto o(a) aluno(a) que obtiver $MP \\lt 4.0$ será considerado(a) reprovado(a) por nota;\n",
        "* O(a) aluno(a) não aprovado(a) após a $P2$ e que obtiver $MP \\geq 4.0$ terá direito a uma terceira avaliação individual à guisa de prova final ($PF$), sendo a média final ($MF$) calculada da seguinte forma:   \n",
        "\n",
        "$$ MF=\\frac{MP+PF}{2} $$\n",
        "\n",
        "* O(a) aluno(a) que obtiver $MF \\geq 5.0$ será considerado(a) aprovado(a) por nota, enquanto o(a) aluno(a) que obtiver $MF \\lt 5.0$ será considerado(a) reprovado(a) por nota;\n",
        "\n",
        "## Programa da disciplina\n",
        "\n",
        "A disciplina será desenvolvida seguindo os itens do programa apresentado abaixo.\n",
        "\n",
        "1. [Chapter 1.0 Getting started](http://nbviewer.jupyter.org/github/gmxavier/FAT0413156/blob/master/notebooks/01.00-Getting-Started.ipynb)\n",
        "\n",
        "2. [Chapter 2.0 Introduction](http://nbviewer.jupyter.org/github/gmxavier/FAT0413156/blob/master/notebooks/02.00-Introduction.ipynb)\n",
        "\n",
        "3. [Chapter 3.0 Pressure measurement](http://nbviewer.jupyter.org/github/gmxavier/FAT0413156/blob/master/notebooks/03.00-Pressure.ipynb)\n",
        "\n",
        "4. [Chapter 4.0 Level measurement](http://nbviewer.jupyter.org/github/gmxavier/FAT0413156/blob/master/notebooks/04.00-Level.ipynb)\n",
        "\n",
        "5. [Chapter 5.0 Temperature measurement](http://nbviewer.jupyter.org/github/gmxavier/FAT0413156/blob/master/notebooks/05.00-Temperature.ipynb)\n",
        "\n",
        "6. [Chapter 6.0 Flow measurement](http://nbviewer.jupyter.org/github/gmxavier/FAT0413156/blob/master/notebooks/06.00-Flow.ipynb)\n",
        "\n",
        "7. [Chapter 7.0 Control and safety valves](http://nbviewer.jupyter.org/github/gmxavier/FAT0413156/blob/master/notebooks/07.00-Control-Safety-Valves.ipynb)\n",
        "\n",
        "8. [Chapter 8.0 Analytical measurement](http://nbviewer.jupyter.org/github/gmxavier/FAT0413156/blob/master/notebooks/08.00-Analytical.ipynb)\n",
        "\n",
        "\n",
        "## Plano de atividades semanais (2022/1)\n",
        "   \n",
        "| Semana | Semana do ano | Data da aula | Item do programa | Observação |\n",
        "| :-: | :-: | :-: | :-: | :-: |\n",
        "| 1      | 24            | 18/06        | -                | Feriado    |\n",
        "| 2      | 25            | 25/06        | 2                | Aula       | \n",
        "| 3      | 26            | 02/07        | 2                | Aula       |\n",
        "| 4      | 27            | 09/07        | 3                | Aula       |\n",
        "| 5      | 28            | 16/07        | 3 e 4            | Aula       |\n",
        "| 6      | 29            | 23/07        | 4                | Aula       |\n",
        "| 7      | 30            | 30/07        | P1               | Avaliação  |\n",
        "| 8      | 31            | 06/08        | 5                | Aula       |\n",
        "| 9      | 32            | 13/08        | 5                | Aula       |\n",
        "| 10     | 33            | 20/08        | 6                | Aula       |\n",
        "| 11     | 34            | 27/08        | 6                | Aula       |\n",
        "| 12     | 35            | 03/09        | 7                | Aula       |\n",
        "| 13     | 36            | 10/09        | 8                | Aula       |\n",
        "| 14     | 37            | 17/09        | P2               | Avaliação  |\n",
        "| 15     | 38            | 24/09        | PF               | Avaliação  |"
      ]
    },
    {
      "cell_type": "markdown",
      "metadata": {
        "id": "g7JA-9M6Yz5w"
      },
      "source": [
        "<!--NAVIGATION-->\n",
        "| [Contents](toc.ipynb) | [Getting started](http://nbviewer.jupyter.org/github/gmxavier/FAT0413156/blob/master/notebooks/01.00-Getting-Started.ipynb) ><p><a href=\"https://colab.research.google.com/github/gmxavier/FAT0413156/blob/master/notebooks/00.00-Info.ipynb\" target=\"_parent\"><img align=\"left\" src=\"https://colab.research.google.com/assets/colab-badge.svg\" alt=\"Open in Colab\" title=\"Open in Google Colaboratory\"></a><p><a href=\"https://raw.githubusercontent.com/gmxavier/FAT0413156/master/notebooks/00.00-Info.ipynb\" target=\"_parent\"><img align=\"left\" src=\"https://img.shields.io/badge/Github-Download-blue.svg\" alt=\"Download\" title=\"Download Notebook\"></a>"
      ]
    }
  ]
}