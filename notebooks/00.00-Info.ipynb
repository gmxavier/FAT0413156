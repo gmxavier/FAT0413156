{
  "nbformat": 4,
  "nbformat_minor": 0,
  "metadata": {
    "kernelspec": {
      "display_name": "Python 3",
      "language": "python",
      "name": "python3"
    },
    "language_info": {
      "codemirror_mode": {
        "name": "ipython",
        "version": 3
      },
      "file_extension": ".py",
      "mimetype": "text/x-python",
      "name": "python",
      "nbconvert_exporter": "python",
      "pygments_lexer": "ipython3",
      "version": "3.7.3"
    },
    "colab": {
      "name": "00.00-Info.ipynb",
      "provenance": []
    }
  },
  "cells": [
    {
      "cell_type": "markdown",
      "metadata": {
        "id": "hNZMtWAEYz5r"
      },
      "source": [
        "<!--NOTEBOOK_HEADER-->\n",
        "*This notebook contains course material from [FAT0413156](https://gmxavier.github.io/FAT0413156)\n",
        "by Gilberto Xavier (gmxavier at fat.uerj.br); the content is available [on Github](https://github.com/gmxavier/FAT0413156.git).\n",
        "The text is released under the [CC-BY-NC-SA-4.0 license](https://creativecommons.org/licenses/by-nc-sa/4.0/legalcode),\n",
        "and code is released under the [MIT license](https://opensource.org/licenses/MIT).*"
      ]
    },
    {
      "cell_type": "markdown",
      "metadata": {
        "id": "v0A3nRTCYz5t"
      },
      "source": [
        "<!--NAVIGATION-->\n",
        "| [Contents](toc.ipynb) | [Getting Started](http://nbviewer.jupyter.org/github/gmxavier/FAT0413156/blob/master/notebooks/01.00-Getting-Started.ipynb) ><p><a href=\"https://colab.research.google.com/github/gmxavier/FAT0413156/blob/master/notebooks/00.00-Info.ipynb\" target=\"_parent\"><img align=\"left\" src=\"https://colab.research.google.com/assets/colab-badge.svg\" alt=\"Open in Colab\" title=\"Open in Google Colaboratory\"></a><p><a href=\"https://raw.githubusercontent.com/gmxavier/FAT0413156/master/notebooks/00.00-Info.ipynb\" target=\"_parent\"><img align=\"left\" src=\"https://img.shields.io/badge/Github-Download-blue.svg\" alt=\"Download\" title=\"Download Notebook\"></a>"
      ]
    },
    {
      "cell_type": "markdown",
      "metadata": {
        "id": "CCD_aRbMYz5u"
      },
      "source": [
        "# Instrumentação de Processos Químicos"
      ]
    },
    {
      "cell_type": "markdown",
      "metadata": {
        "id": "J1EOdhOeYz5u"
      },
      "source": [
        "Prof. Gilberto M. Xavier  \n",
        "Código SAG: *FAT04-13156*\n",
        "\n",
        "## Tópicos da ementa\n",
        "\n",
        "* Conceitos de identificação e simbologias usadas na representação de sistemas de instrumentação e de medição;\n",
        "* Medição de pressão;\n",
        "* Medição de temperatura;\n",
        "* Medição de nível;\n",
        "* Medição de vazão;\n",
        "* Dimensionamento de elementos primários de vazão;\n",
        "* Transmissão pneumática e eletrônica;\n",
        "* Sistema digital de controle distribuído - SDCD;\n",
        "* Válvulas de controle e de segurança;\n",
        "* Uso de \"softwares\" para estudo de características e dimensionamento de instrumentos, e;\n",
        "* Sensores de concentração e sensores físico-químicos.\n",
        "\n",
        "## Livro texto e bibliografia recomendada\n",
        "\n",
        "* KUPHALDT, A. R., LESSONS IN INDUSTRIAL INSTRUMENTATION, VERSION 2.32, 2019. \n",
        "   \n",
        "   \n",
        "* LIPTAK, B. G., INSTRUMENT ENGINEERS' HANDBOOK: PROCESS MEASUREMENT AND ANALYSIS, 4TH EDITION, VOL. 1; CRC PRESS, 2006.\n",
        "* LIPTAK, B. G., INSTRUMENT ENGINEERS' HANDBOOK: PROCESS CONTROL AND OPTIMIZATION, 4TH EDITION, VOL. 2; CRC PRESS, 2006.\n",
        "* NAGY, I., INTRODUCTION TO CHEMICAL PROCESS INSTRUMENTATION, ELSEVIER, 1992.\n",
        "* CONNEL, B., PROCESS INSTRUMENTATION APPLICATIONS MANUAL, MCGRAW HILL, 1996.\n",
        "\n",
        "## Descrição da disciplina\n",
        "\n",
        "Esta disciplina visa capacitar o aluno na análise e avaliação das características dos sistemas de instrumentação e de medição utilizados em indústrias químicas, além de capacitá-lo na seleção dos instrumentos e sensores adequados à medição das variáveis de processo e também no projeto de sistemas de instrumentação para emprego em indústrias químicas. Quanto à utilização de ferramentas computacionais, os cálculos serão implementados e realizados usando a linguagem [Python](https://www.python.org/). O aprendizado do Python é desejável, pois a linguagem também será utilizada subsequentemente na disciplina [Controle de Processos Químicos](http://www.ementario.uerj.br/ementa.php?cdg_disciplina=13150).\n",
        "\n",
        "## Metodologia do curso\n",
        "\n",
        "O curso desta disciplina será oferecido com as seguintes características e ferramentas:   \n",
        "\n",
        "* O material utilizado encontra-se redigido na língua inglesa, entretanto, todo o curso será ministrado na língua portuguesa;\n",
        "* Aulas síncronas de presença obrigatória, serão aulas nas quais toda a turma comparecerá a um encontro virtual com data e hora marcada (estabelecido pelo Plano de Turmas), serão denominadas estas aulas da seguinte forma ASYY, no qual YY é o número sequencial, elas ficarão gravadas em um repositório para consultas, mas a presença somente será computada no momento da aula, estas aulas terão duração de no máximo 3 h, ao término destes encontros na mesma sala virtual o professor ficará a disposição para dúvidas por pelo menos 40 min (10 min no início e 30 min no final);\n",
        "* Atividades de avaliação por capítulo – a cada capítulo o aluno terá que entregar uma atividade proposta para fins de avaliação (AVC0X, no qual X é o número do capítulo), ao final as avaliações vão compor o que será chamado de MAC (média das avaliações por capítulo), a data limite da entrega de cada AVC é dada no plano de atividades semanais;\n",
        "* Avaliação do período – em datas e horários marcados os alunos serão admitidos em uma sala virtual para uma avaliação do período (AP), todo o conteúdo da disciplina poderá ser exigido e o resultado será $NAP$ (nota da avaliação do período);\n",
        "* Todo o material da disciplina será acessado por intermédio do [GitHub](https://github.com/gmxavier/FAT0413156) ou do [Google Classroom](https://classroom.google.com/);\n",
        "* A média das avaliações por capítulo, $MAC$, será a média aritmética simples de todos os trabalhos ofertados, já a média do período ($MP$) será calculada com a seguinte equação:  \n",
        "\n",
        "$$ MP=\\frac{MAC+NAP}{2} $$\n",
        "\n",
        "* O aluno que obtiver $MP \\geq 7.0$ será considerado aprovado, enquanto o aluno que obtiver $MP \\leq 4.0$ será considerado reprovado;\n",
        "* Já o aluno que estiver no intervalo $4.0 \\leq MP \\leq 7.0$ e obtiver necessariamente uma participação de pelo menos 75% das atividades síncronas fará uma nova avaliação individual à guisa de prova final (PF), em datas e horários marcados, resultando na $NPF$ (nota da prova final) e terá uma média final ($MF$) calculada segundo a equação:   \n",
        "\n",
        "$$ MF=\\frac{MP+NPF}{2} $$\n",
        "\n",
        "* Neste caso, o aluno que realizar a prova final será aprovado se a $MF \\geq 5.0$ , caso contrário o aluno será reprovado, e;\n",
        "* Durante todo o período as entregas deverão ser realizadas exclusivamente na turma virtual do [Google Classroom](https://classroom.google.com/) utilizando as sua conta institucional da FAT (@discentes.fat.uerj.br) para autenticação.\n",
        "\n",
        "## Programa da disciplina\n",
        "\n",
        "A disciplina será desenvolvida seguindo os itens do programa apresentado abaixo.\n",
        "\n",
        "1. [Chapter 1.0 Getting started](http://nbviewer.jupyter.org/github/gmxavier/FAT0413156/blob/master/notebooks/01.00-Getting-Started.ipynb)\n",
        "\n",
        "2. [Chapter 2.0 Introduction](http://nbviewer.jupyter.org/github/gmxavier/FAT0413156/blob/master/notebooks/02.00-Introduction.ipynb)\n",
        "\n",
        "3. [Chapter 3.0 Pressure measurement](http://nbviewer.jupyter.org/github/gmxavier/FAT0413156/blob/master/notebooks/03.00-Pressure.ipynb)\n",
        "\n",
        "4. [Chapter 4.0 Level measurement](http://nbviewer.jupyter.org/github/gmxavier/FAT0413156/blob/master/notebooks/04.00-Level.ipynb)\n",
        "\n",
        "5. [Chapter 5.0 Temperature measurement](http://nbviewer.jupyter.org/github/gmxavier/FAT0413156/blob/master/notebooks/05.00-Temperature.ipynb)\n",
        "\n",
        "6. [Chapter 6.0 Flow measurement](http://nbviewer.jupyter.org/github/gmxavier/FAT0413156/blob/master/notebooks/06.00-Flow.ipynb)\n",
        "\n",
        "7. [Chapter 7.0 Control and safety valves](http://nbviewer.jupyter.org/github/gmxavier/FAT0413156/blob/master/notebooks/07.00-Control-Safety-Valves.ipynb)\n",
        "\n",
        "8. [Chapter 8.0 Analytical measurement](http://nbviewer.jupyter.org/github/gmxavier/FAT0413156/blob/master/notebooks/08.00-Analytical.ipynb)\n",
        "\n",
        "\n",
        "## Plano de atividades semanais (2020/2)\n",
        "   \n",
        "| Semana | Semana do ano | Data da aula | Item do programa | Leitura prévia | Aula síncrona | Leitura recomendada | Entrega |\n",
        "| :-: | :-: | :-: | :-: | :-: | :-: | :-: | :-: |\n",
        "| 1      | 7             | 27/02        | 1                | Chapter 1.0    | AS01          | Chapter 2.0         |         |\n",
        "| 2      | 8             | 06/03        | 2                | Chapter 2.0    | AS02          | Chapter 3.0         | AVC01   |\n",
        "| 3      | 9             | 13/03        | 3                | Chapter 3.0    | AS03          | Chapter 3.0         | AVC02   |\n",
        "| 4      | 10            | 20/03        | 3                | Chapter 3.0    | AS04          | Chapter 4.0         |         |\n",
        "| 5      | 11            | 27/03        | 4                | Chapter 4.0    | AS05          | Chapter 4.0         | AVC03   |\n",
        "| 6      | 12            | 03/04        | 4                | Chapter 4.0    | AS06          | Chapter 5.0         |         |\n",
        "| 7      | 13            | 10/04        | 5                | Chapter 5.0    | AS07          | Chapter 5.0         | AVC04   |\n",
        "| 8      | 14            | 17/04        | 5                | Chapter 5.0    | AS08          | Chapter 6.0         |         |\n",
        "| 9      | 15            | 24/04        | 6                | Chapter 6.0    | AS09          | Chapter 6.0         | AVC05   |\n",
        "| 10     | 16            | 01/05        | 6                | Chapter 6.0    | AS10          | Chapter 7.0         |         |\n",
        "| 11     | 17            | 08/05        | 7                | Chapter 7.0    | AS11          | Chapter 7.0         | AVC06   |\n",
        "| 12     | 18            | 15/05        | 7                | Chapter 7.0    | AS12          | Chapter 8.0         |         |\n",
        "| 13     | 19            | 22/05        | 8                | Chapter 8.0    | AS13          | Chapter 8.0         | AVC07   |\n",
        "| 14     | 20            | 29/05        |                  | PS             |               |                     | AVC08   |\n",
        "| 15     | 21            | 05/06        |                  | PF             |               |                     |         |"
      ]
    },
    {
      "cell_type": "markdown",
      "metadata": {
        "id": "g7JA-9M6Yz5w"
      },
      "source": [
        "<!--NAVIGATION-->\n",
        "| [Contents](toc.ipynb) | [Getting started](http://nbviewer.jupyter.org/github/gmxavier/FAT0413156/blob/master/notebooks/01.00-Getting-Started.ipynb) ><p><a href=\"https://colab.research.google.com/github/gmxavier/FAT0413156/blob/master/notebooks/00.00-Info.ipynb\" target=\"_parent\"><img align=\"left\" src=\"https://colab.research.google.com/assets/colab-badge.svg\" alt=\"Open in Colab\" title=\"Open in Google Colaboratory\"></a><p><a href=\"https://raw.githubusercontent.com/gmxavier/FAT0413156/master/notebooks/00.00-Info.ipynb\" target=\"_parent\"><img align=\"left\" src=\"https://img.shields.io/badge/Github-Download-blue.svg\" alt=\"Download\" title=\"Download Notebook\"></a>"
      ]
    }
  ]
}
