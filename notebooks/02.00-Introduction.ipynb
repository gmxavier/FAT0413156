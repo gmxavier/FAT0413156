{
 "cells": [
  {
   "cell_type": "markdown",
   "metadata": {},
   "source": [
    "<!--NOTEBOOK_HEADER-->\n",
    "*This notebook contains course material from [FAT0413156](https://gmxavier.github.io/FAT0413156)\n",
    "by Gilberto Xavier (gilberto.xavier at lps.ufrj.br); the content is available [on Github](https://github.com/gmxavier/FAT0413156.git).\n",
    "The text is released under the [CC-BY-NC-SA-4.0 license](https://creativecommons.org/licenses/by-nc-sa/4.0/legalcode),\n",
    "and code is released under the [MIT license](https://opensource.org/licenses/MIT).*"
   ]
  },
  {
   "cell_type": "markdown",
   "metadata": {},
   "source": [
    "<!--NAVIGATION-->\n",
    "< [Getting started](http://nbviewer.jupyter.org/github/gmxavier/FAT0413156/blob/master/notebooks/01.00-Getting-Started.ipynb) | [Contents](toc.ipynb) | [Pressure measurement](http://nbviewer.jupyter.org/github/gmxavier/FAT0413156/blob/master/notebooks/03.00-Pressure.ipynb) ><p><a href=\"https://colab.research.google.com/github/jckantor/FAT0413156/blob/master/notebooks/02.00-Introduction.ipynb\"><img align=\"left\" src=\"https://colab.research.google.com/assets/colab-badge.svg\" alt=\"Open in Colab\" title=\"Open in Google Colaboratory\"></a><p><a href=\"https://raw.githubusercontent.com/jckantor/FAT0413156/master/notebooks/02.00-Introduction.ipynb\"><img align=\"left\" src=\"https://img.shields.io/badge/Github-Download-blue.svg\" alt=\"Download\" title=\"Download Notebook\"></a>"
   ]
  },
  {
   "cell_type": "markdown",
   "metadata": {},
   "source": [
    "# Introduction"
   ]
  },
  {
   "cell_type": "markdown",
   "metadata": {},
   "source": [
    "Reading: Tony R. Kuphaldt's [*Lessons in Industrial Instrumentation*: Chapter 6](https://www.ibiblio.org/kuphaldt/socratic/sinst/book/liii_2v32.pdf#page=524)\n",
    "\n",
    "Instructions: Click the link above and read this chapter. Chapter 6 provides an introduction to Industrial Instrumentation.\n",
    "\n",
    "Reading this chapter should take approximately ?? minutes.\n",
    "\n",
    "Terms of use: This work is licensed under terms of the [CC-BY-4.0 license](http://creativecommons.org/licenses/by/4.0/). It is attributed to Tony R. Kuphaldt.\n",
    "\n",
    "## Instrumentation documents\n",
    "\n",
    "Reading: Tony R. Kuphaldt's [*Lessons in Industrial Instrumentation*: Chapter 7](https://www.ibiblio.org/kuphaldt/socratic/sinst/book/liii_2v32.pdf#page=558)\n",
    "\n",
    "Instructions: Click the link above and read this chapter. Chapter 7 provides a glance about the main instrumentation documents.\n",
    "\n",
    "Reading this chapter should take approximately ?? minutes.\n",
    "\n",
    "Terms of use: This work is licensed under terms of the [CC-BY-4.0 license](http://creativecommons.org/licenses/by/4.0/). It is attributed to Tony R. Kuphaldt.\n",
    "\n",
    "Supplementary material:\n",
    "- [Realistic instrumentation diagrams](https://www.ibiblio.org/kuphaldt/socratic/sinst/output/realistic_diagrams.pdf#page=2)\n",
    "\n",
    "## Analog electronic instrumentation\n",
    "\n",
    "Reading: Tony R. Kuphaldt's [*Lessons in Industrial Instrumentation*: Chapter 13](https://www.ibiblio.org/kuphaldt/socratic/sinst/book/liii_2v32.pdf#page=890)\n",
    "\n",
    "Instructions: Click the link above and read this chapter. Chapter 13 describes the analog electronic instrumentation.\n",
    "\n",
    "Reading this chapter should take approximately ?? minutes.\n",
    "\n",
    "Terms of use: This work is licensed under terms of the [CC-BY-4.0 license](http://creativecommons.org/licenses/by/4.0/). It is attributed to Tony R. Kuphaldt.\n",
    "\n",
    "## Pneumatic instrumentation\n",
    "\n",
    "Reading: Tony R. Kuphaldt's [*Lessons in Industrial Instrumentation*: Chapter 14](https://www.ibiblio.org/kuphaldt/socratic/sinst/book/liii_2v32.pdf#page=944)\n",
    "\n",
    "Instructions: Click the link above and read this chapter. Chapter 14 describes the pneumatic instrumentation.\n",
    "\n",
    "Reading this chapter should take approximately ?? minutes.\n",
    "\n",
    "Terms of use: This work is licensed under terms of the [CC-BY-4.0 license](http://creativecommons.org/licenses/by/4.0/). It is attributed to Tony R. Kuphaldt.\n",
    "\n",
    "## Uncertainty calculations\n",
    "\n",
    "Reading: Bela G. Liptak and R. H. Dieck's [*Instrument Engineers' Handbook, Volume One: Process Measurement and Analysis*: Section 1.5](https://books.google.com.br/books?id=a05NAvaqfcUC&lpg=PA91&ots=Zp3WRamLIj&pg=PA86) \n",
    "\n",
    "Reading this section should take approximately ?? minutes.\n",
    "\n",
    "Terms of use: This work is copyrighted by Bela G. Liptak (2003).\n",
    "\n",
    "## Exercises\n",
    "\n",
    "Try to solve the problems listed [here](https://doc.lagout.org/electronics/Fundamentals%20of%20Industrial%20Instrumentation%20and%20Process%20Control%20%5Bby%20William%20Dunn%5D.pdf) on page 13.\n",
    "\n",
    "Tip: Take a look [here](https://www.ibiblio.org/kuphaldt/socratic/sinst/book/liii_2v32.pdf#page=87) to get some conversion factors."
   ]
  },
  {
   "cell_type": "markdown",
   "metadata": {},
   "source": [
    "<!--NAVIGATION-->\n",
    "< [Getting started](http://nbviewer.jupyter.org/github/gmxavier/FAT0413156/blob/master/notebooks/01.00-Getting-Started.ipynb) | [Contents](toc.ipynb) | [Pressure measurement](http://nbviewer.jupyter.org/github/gmxavier/FAT0413156/blob/master/notebooks/03.00-Pressure.ipynb) ><p><a href=\"https://colab.research.google.com/github/jckantor/FAT0413156/blob/master/notebooks/02.00-Introduction.ipynb\"><img align=\"left\" src=\"https://colab.research.google.com/assets/colab-badge.svg\" alt=\"Open in Colab\" title=\"Open in Google Colaboratory\"></a><p><a href=\"https://raw.githubusercontent.com/jckantor/FAT0413156/master/notebooks/02.00-Introduction.ipynb\"><img align=\"left\" src=\"https://img.shields.io/badge/Github-Download-blue.svg\" alt=\"Download\" title=\"Download Notebook\"></a>"
   ]
  }
 ],
 "metadata": {
  "kernelspec": {
   "display_name": "Python 3",
   "language": "python",
   "name": "python3"
  },
  "language_info": {
   "codemirror_mode": {
    "name": "ipython",
    "version": 3
   },
   "file_extension": ".py",
   "mimetype": "text/x-python",
   "name": "python",
   "nbconvert_exporter": "python",
   "pygments_lexer": "ipython3",
   "version": "3.7.3"
  }
 },
 "nbformat": 4,
 "nbformat_minor": 2
}
