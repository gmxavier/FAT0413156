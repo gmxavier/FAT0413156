{
 "cells": [
  {
   "cell_type": "markdown",
   "metadata": {},
   "source": [
    "<!--NOTEBOOK_HEADER-->\n",
    "*This notebook contains course material from [FAT0413156](https://gmxavier.github.io/FAT0413156)\n",
    "by Gilberto Xavier (gilberto.xavier at lps.ufrj.br); the content is available [on Github](https://github.com/gmxavier/FAT0413156.git).\n",
    "The text is released under the [CC-BY-NC-SA-4.0 license](https://creativecommons.org/licenses/by-nc-sa/4.0/legalcode),\n",
    "and code is released under the [MIT license](https://opensource.org/licenses/MIT).*"
   ]
  },
  {
   "cell_type": "markdown",
   "metadata": {},
   "source": [
    "<!--NAVIGATION-->\n",
    "< [Pressure measurement](http://nbviewer.jupyter.org/github/gmxavier/FAT0413156/blob/master/notebooks/03.00-Pressure.ipynb) | [Contents](toc.ipynb) | [Temperature measurement](http://nbviewer.jupyter.org/github/gmxavier/FAT0413156/blob/master/notebooks/05.00-Temperature.ipynb) ><p><a href=\"https://colab.research.google.com/github/gmxavier/FAT0413156/blob/master/notebooks/04.00-Level.ipynb\" target="_parent\"><img align=\"left\" src=\"https://colab.research.google.com/assets/colab-badge.svg\" alt=\"Open in Colab\" title=\"Open in Google Colaboratory\"></a><p><a href=\"https://raw.githubusercontent.com/gmxavier/FAT0413156/master/notebooks/04.00-Level.ipynb\"><img align=\"left\" src=\"https://img.shields.io/badge/Github-Download-blue.svg\" alt=\"Download\" title=\"Download Notebook\"></a>"
   ]
  },
  {
   "cell_type": "markdown",
   "metadata": {},
   "source": [
    "# Level measurement"
   ]
  },
  {
   "cell_type": "markdown",
   "metadata": {},
   "source": [
    "## Continuous level measurement\n",
    "\n",
    "Reading: Tony R. Kuphaldt's [*Lessons in Industrial Instrumentation*: Chapter 20](https://www.ibiblio.org/kuphaldt/socratic/sinst/book/liii_2v32.pdf#page=1434)\n",
    "\n",
    "Instructions: Click the link above and read this chapter. Chapter 20 explores the major level-measurement technologies in current use.\n",
    "\n",
    "Reading this chapter should take approximately ?? minutes.\n",
    "\n",
    "Terms of use: This work is licensed under terms of the [CC-BY-4.0 license](http://creativecommons.org/licenses/by/4.0/). It is attributed to Tony R. Kuphaldt.\n",
    "\n",
    "Supplementary material:\n",
    "- [Level measurement at Wikipedia](https://en.wikipedia.org/wiki/Level_sensor)\n",
    "- [Time-of-Flight measuring principle animation](https://www.youtube.com/watch?v=iwVBUo11UAU)\n",
    "- [Ultrasonic level measurement](https://portal.endress.com/wa001/dla/5000000/1015/000/00/TI129FEN.PDF)\n",
    "- [Capacitance level measurement](https://www.youtube.com/watch?v=MPCUDVp0WZc&t=2s)\n",
    "- [Radiometric measurement](https://www.youtube.com/watch?v=JslxugGR6Ms)\n",
    "- [Radiometric interface measurement](https://www.youtube.com/watch?v=s_X273WxWZw)\n",
    "- [Gamma radiation sources](https://portal.endress.com/wa001/dla/5000000/1015/000/00/TI213FEN.PDF)\n",
    "- [Level measurement in steam boilers](https://portal.endress.com/wa001/dla/5000292/3631/000/03/CP00041F11EN_1514_Bypass_Dampfkessel_X4_.pdf)\n",
    "- [Emerson's Solids Level Measurement Application Guide](https://www.emerson.com/documents/automation/solids-level-measurement-application-guide-en-78224.pdf)\n",
    "\n",
    "\n",
    "## Discrete level measurement\n",
    "\n",
    "Reading: Tony R. Kuphaldt's [*Lessons in Industrial Instrumentation*: Section 9.6](https://www.ibiblio.org/kuphaldt/socratic/sinst/book/liii_2v32.pdf#page=702)\n",
    "\n",
    "Instructions: Click the link above and read this section. Section 9.6 provides a glance about level switches.\n",
    "\n",
    "Reading this section should take approximately ?? minutes.\n",
    "\n",
    "Terms of use: This work is licensed under terms of the [CC-BY-4.0 license](http://creativecommons.org/licenses/by/4.0/). It is attributed to Tony R. Kuphaldt.\n",
    "\n",
    "Supplementary material:\n",
    "- [Vibronic measuring principle animation](https://www.youtube.com/watch?v=50g5TrN_hZM)\n",
    "\n",
    "## Exercises\n",
    "\n",
    "Try to solve the problems listed [here](https://doc.lagout.org/electronics/Fundamentals%20of%20Industrial%20Instrumentation%20and%20Process%20Control%20%5Bby%20William%20Dunn%5D.pdf) on page 97.\n",
    "\n",
    "Tip: Take a look [here](https://www.ibiblio.org/kuphaldt/socratic/sinst/book/liii_2v32.pdf#page=87) to get some conversion factors."
   ]
  },
  {
   "cell_type": "markdown",
   "metadata": {},
   "source": [
    "<!--NAVIGATION-->\n",
    "< [Pressure measurement](http://nbviewer.jupyter.org/github/gmxavier/FAT0413156/blob/master/notebooks/03.00-Pressure.ipynb) | [Contents](toc.ipynb) | [Temperature measurement](http://nbviewer.jupyter.org/github/gmxavier/FAT0413156/blob/master/notebooks/05.00-Temperature.ipynb) ><p><a href=\"https://colab.research.google.com/github/gmxavier/FAT0413156/blob/master/notebooks/04.00-Level.ipynb\"><img align=\"left\" src=\"https://colab.research.google.com/assets/colab-badge.svg\" alt=\"Open in Colab\" title=\"Open in Google Colaboratory\"></a><p><a href=\"https://raw.githubusercontent.com/gmxavier/FAT0413156/master/notebooks/04.00-Level.ipynb\"><img align=\"left\" src=\"https://img.shields.io/badge/Github-Download-blue.svg\" alt=\"Download\" title=\"Download Notebook\"></a>"
   ]
  }
 ],
 "metadata": {
  "kernelspec": {
   "display_name": "Python 3",
   "language": "python",
   "name": "python3"
  },
  "language_info": {
   "codemirror_mode": {
    "name": "ipython",
    "version": 3
   },
   "file_extension": ".py",
   "mimetype": "text/x-python",
   "name": "python",
   "nbconvert_exporter": "python",
   "pygments_lexer": "ipython3",
   "version": "3.7.3"
  }
 },
 "nbformat": 4,
 "nbformat_minor": 2
}
