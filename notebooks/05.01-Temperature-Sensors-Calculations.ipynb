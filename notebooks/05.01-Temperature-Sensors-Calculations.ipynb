{
  "nbformat": 4,
  "nbformat_minor": 0,
  "metadata": {
    "colab": {
      "provenance": [],
      "authorship_tag": "ABX9TyMNVDKEjsw6ra3JJpVAW4T9",
      "include_colab_link": true
    },
    "kernelspec": {
      "name": "python3",
      "display_name": "Python 3"
    },
    "language_info": {
      "name": "python"
    }
  },
  "cells": [
    {
      "cell_type": "markdown",
      "metadata": {
        "id": "view-in-github",
        "colab_type": "text"
      },
      "source": [
        "<a href=\"https://colab.research.google.com/github/gmxavier/FAT0413156/blob/master/notebooks/05.01-Temperature-Sensors-Calculations.ipynb\" target=\"_parent\"><img src=\"https://colab.research.google.com/assets/colab-badge.svg\" alt=\"Open In Colab\"/></a>"
      ]
    },
    {
      "cell_type": "markdown",
      "source": [
        "## Temperature sensor calculations\n",
        "\n",
        "This notebook introduces the Python packages `pt100`, `thermistor-utils` and `thermocouples_reference` which are very useful options to the temperature sensors tables in order to convert measured resistances of Pt100s and thermistors and voltages of thermocouples in temperatures.\n",
        "\n",
        "*First things first*, let's install the packages."
      ],
      "metadata": {
        "id": "b5cQ74HbuJ7s"
      }
    },
    {
      "cell_type": "code",
      "execution_count": 1,
      "metadata": {
        "colab": {
          "base_uri": "https://localhost:8080/"
        },
        "id": "g0RcCH7Utt-d",
        "outputId": "97f42eb9-59d6-4bbc-a13b-0af39e1d9ee2"
      },
      "outputs": [
        {
          "output_type": "stream",
          "name": "stdout",
          "text": [
            "Looking in indexes: https://pypi.org/simple, https://us-python.pkg.dev/colab-wheels/public/simple/\n",
            "Collecting pt100\n",
            "  Downloading pt100-0.1.tar.gz (5.4 kB)\n",
            "  Preparing metadata (setup.py) ... \u001b[?25l\u001b[?25hdone\n",
            "Building wheels for collected packages: pt100\n",
            "  Building wheel for pt100 (setup.py) ... \u001b[?25l\u001b[?25hdone\n",
            "  Created wheel for pt100: filename=pt100-0.1-py3-none-any.whl size=5482 sha256=89390fc95d5bd033b5b845cd20b8dd3686d9f2aab8c35d2c3ca4b656499a06b2\n",
            "  Stored in directory: /root/.cache/pip/wheels/56/af/0a/75218ba1e509ba6cd8aba00931e4676e9337bef4d3ad534f8c\n",
            "Successfully built pt100\n",
            "Installing collected packages: pt100\n",
            "Successfully installed pt100-0.1\n",
            "Looking in indexes: https://pypi.org/simple, https://us-python.pkg.dev/colab-wheels/public/simple/\n",
            "Collecting thermistor_utils\n",
            "  Downloading thermistor_utils-0.0.4-py3-none-any.whl (8.4 kB)\n",
            "Installing collected packages: thermistor_utils\n",
            "Successfully installed thermistor_utils-0.0.4\n",
            "Looking in indexes: https://pypi.org/simple, https://us-python.pkg.dev/colab-wheels/public/simple/\n",
            "Collecting thermocouples_reference\n",
            "  Downloading thermocouples_reference-0.20.tar.gz (17 kB)\n",
            "  Preparing metadata (setup.py) ... \u001b[?25l\u001b[?25hdone\n",
            "Requirement already satisfied: numpy in /usr/local/lib/python3.10/dist-packages (from thermocouples_reference) (1.22.4)\n",
            "Building wheels for collected packages: thermocouples_reference\n",
            "  Building wheel for thermocouples_reference (setup.py) ... \u001b[?25l\u001b[?25hdone\n",
            "  Created wheel for thermocouples_reference: filename=thermocouples_reference-0.20-py3-none-any.whl size=19550 sha256=a7962e6eb302e8bb5660548c37b5a80047f63088f496952751f50b6816785344\n",
            "  Stored in directory: /root/.cache/pip/wheels/b3/a2/9a/e89c73088a46e7c15aa672c09f41a8b7b77985aca562b2f53a\n",
            "Successfully built thermocouples_reference\n",
            "Installing collected packages: thermocouples_reference\n",
            "Successfully installed thermocouples_reference-0.20\n"
          ]
        }
      ],
      "source": [
        "!pip install pt100\n",
        "!pip install thermistor_utils\n",
        "!pip install thermocouples_reference"
      ]
    },
    {
      "cell_type": "markdown",
      "source": [
        "Now, let's obtain the temperatures from the measured values of the following resistances from the table below.\n",
        "\n",
        "![](https://media.cheggcdn.com/media/daa/s622x614/daa4b552-03ab-447c-abf4-da091f7a96d9/phpaqN1mQ.png)\n",
        "\n",
        "Using the table, we can see that for measured resistances of 53.75, 100.00 and 116.70 ohm the temperatures are -116.00, 0.00 and 43.00 degC, respectively. \n",
        "\n",
        "The same results are obtained by calling the function `interp_resist_to_temp_np` from the Python package `pt100` as below:"
      ],
      "metadata": {
        "id": "HUXNRBv6vXYV"
      }
    },
    {
      "cell_type": "code",
      "source": [
        "from pt100.lookuptable import *\n",
        "interp_resist_to_temp_np([53.75, 100.00, 116.70])"
      ],
      "metadata": {
        "colab": {
          "base_uri": "https://localhost:8080/"
        },
        "id": "YwjpJ-D7xIan",
        "outputId": "f5f64be8-34d8-446b-ac83-d9bd8286bc6e"
      },
      "execution_count": 2,
      "outputs": [
        {
          "output_type": "execute_result",
          "data": {
            "text/plain": [
              "array([-115.97560976,    0.        ,   43.        ])"
            ]
          },
          "metadata": {},
          "execution_count": 2
        }
      ]
    },
    {
      "cell_type": "markdown",
      "source": [
        "Now, let's obtain the temperature from a Vishay NTCAIMME3 thermistor measured resistance of 5323.9 ohm.\n",
        "\n",
        "First we need to consult the thermistor datasheet [here](https://www.vishay.com/doc?29131) and get the values of `beta`, `R0` and `T0` in order to setup the `Beta_converter` of the Python package `thermistor-utils`."
      ],
      "metadata": {
        "id": "ustAVYCYByq3"
      }
    },
    {
      "cell_type": "code",
      "source": [
        "from thermistor_utils import Beta_converter\n",
        "beta, R0, T0 = (3984, 10000, 25)\n",
        "NTCAIMME3 = Beta_converter(beta, R0, T0)"
      ],
      "metadata": {
        "id": "xdYtGLvzCiL5"
      },
      "execution_count": 3,
      "outputs": []
    },
    {
      "cell_type": "markdown",
      "source": [
        "Then, using this `Beta_converter` and the measured resistance value, we can obtain the temperature in degC as following:"
      ],
      "metadata": {
        "id": "8LoNB6ubGdxG"
      }
    },
    {
      "cell_type": "code",
      "source": [
        "NTCAIMME3.temperature(5323.9)"
      ],
      "metadata": {
        "colab": {
          "base_uri": "https://localhost:8080/"
        },
        "id": "pzTvlFgkHcm3",
        "outputId": "0c3aba37-4688-4658-bc16-c798a3067a35"
      },
      "execution_count": 4,
      "outputs": [
        {
          "output_type": "execute_result",
          "data": {
            "text/plain": [
              "39.76179385826248"
            ]
          },
          "metadata": {},
          "execution_count": 4
        }
      ]
    },
    {
      "cell_type": "markdown",
      "source": [
        "From the thermistor datasheet\n",
        "\n"
      ],
      "metadata": {
        "id": "9vDETbArHtkB"
      }
    },
    {
      "cell_type": "markdown",
      "source": [
        "Now, let's obtain the temperature from a type J thermocouple measured voltage of 1.019 mV.\n",
        "\n",
        "![](https://i.stack.imgur.com/5e3MN.png)\n",
        "\n",
        "Using the table, we can see that for this measured voltage the temperature is 20 degC.\n",
        "\n",
        "The same result is obtained by calling the function `inverse_CmV` from the module `thermocouples` of the Python package `thermocouples_reference` as below:"
      ],
      "metadata": {
        "id": "gpfDQDdV3ne8"
      }
    },
    {
      "cell_type": "code",
      "source": [
        "from thermocouples_reference import thermocouples\n",
        "typeJ = thermocouples['J']\n",
        "typeJ.inverse_CmV(1.019, Tref=0.0)"
      ],
      "metadata": {
        "colab": {
          "base_uri": "https://localhost:8080/"
        },
        "id": "3pG9srgm4uAB",
        "outputId": "7cd4736c-28da-44a6-e162-6893f83dd101"
      },
      "execution_count": 8,
      "outputs": [
        {
          "output_type": "execute_result",
          "data": {
            "text/plain": [
              "19.997101532715302"
            ]
          },
          "metadata": {},
          "execution_count": 8
        }
      ]
    },
    {
      "cell_type": "markdown",
      "source": [
        "Addionally, we can obtain the voltage generated by the type J thermocouple when its measuring junction is at 20 degC and its reference junction is at 0 degC by calling `emf_mVC` from the module `thermocouples` of the Python package `thermocouples_reference` as below:"
      ],
      "metadata": {
        "id": "XVPfBKqo6KSM"
      }
    },
    {
      "cell_type": "code",
      "source": [
        "typeJ.emf_mVC(20, Tref=0.0)"
      ],
      "metadata": {
        "colab": {
          "base_uri": "https://localhost:8080/"
        },
        "id": "Q_wLBqLi6xF5",
        "outputId": "537addf4-0ba3-4c5f-f6dd-664e83c8c119"
      },
      "execution_count": 10,
      "outputs": [
        {
          "output_type": "execute_result",
          "data": {
            "text/plain": [
              "1.019149275210732"
            ]
          },
          "metadata": {},
          "execution_count": 10
        }
      ]
    },
    {
      "cell_type": "code",
      "source": [
        "typeS = thermocouples['S']\n",
        "typeS.emf_mVF(2650)"
      ],
      "metadata": {
        "colab": {
          "base_uri": "https://localhost:8080/"
        },
        "id": "oLKRUliqD1Gt",
        "outputId": "c12ac140-dfdd-49f6-acd3-d6a2ed065ec1"
      },
      "execution_count": 11,
      "outputs": [
        {
          "output_type": "execute_result",
          "data": {
            "text/plain": [
              "15.032026283601528"
            ]
          },
          "metadata": {},
          "execution_count": 11
        }
      ]
    },
    {
      "cell_type": "code",
      "source": [
        "typeS.emf_mVF(70.8)"
      ],
      "metadata": {
        "colab": {
          "base_uri": "https://localhost:8080/"
        },
        "id": "jJME6iQmNMlu",
        "outputId": "17173f64-0243-45af-9d95-c0fa76c665d2"
      },
      "execution_count": 12,
      "outputs": [
        {
          "output_type": "execute_result",
          "data": {
            "text/plain": [
              "0.12209293076151756"
            ]
          },
          "metadata": {},
          "execution_count": 12
        }
      ]
    },
    {
      "cell_type": "code",
      "source": [
        "typeS.emf_mVF(570)"
      ],
      "metadata": {
        "colab": {
          "base_uri": "https://localhost:8080/"
        },
        "id": "KIBGK_U_FBpr",
        "outputId": "a8fa1ff4-ebb5-41ef-f719-df69c235ce23"
      },
      "execution_count": 14,
      "outputs": [
        {
          "output_type": "execute_result",
          "data": {
            "text/plain": [
              "2.312898991352609"
            ]
          },
          "metadata": {},
          "execution_count": 14
        }
      ]
    },
    {
      "cell_type": "code",
      "source": [
        "typeS.inverse_FmV(16.266)"
      ],
      "metadata": {
        "colab": {
          "base_uri": "https://localhost:8080/"
        },
        "id": "dUMhfEXmEiXe",
        "outputId": "d61db677-c4bb-4421-9226-cefa89099bac"
      },
      "execution_count": 15,
      "outputs": [
        {
          "output_type": "execute_result",
          "data": {
            "text/plain": [
              "2834.716643479243"
            ]
          },
          "metadata": {},
          "execution_count": 15
        }
      ]
    },
    {
      "cell_type": "markdown",
      "source": [
        "But if we read a voltage of 0.518 mV at the digital voltmeter when the reference juntion is at 20 degC, what is the temperature in degC at the measuring junction of a type J thermocouple?\n",
        "\n",
        "The answer can be easily obtained by calling the function `inverse_CmV` from the module `thermocouples` of the Python package `thermocouples_reference` as below:"
      ],
      "metadata": {
        "id": "f6atykUD7r0G"
      }
    },
    {
      "cell_type": "code",
      "source": [
        "typeJ.inverse_CmV(0.518, Tref=20.0)"
      ],
      "metadata": {
        "colab": {
          "base_uri": "https://localhost:8080/"
        },
        "id": "_n3olxRi8jND",
        "outputId": "aebadedc-52d9-4cb6-8a6a-75c7c41b67e2"
      },
      "execution_count": 16,
      "outputs": [
        {
          "output_type": "execute_result",
          "data": {
            "text/plain": [
              "30.009532609611554"
            ]
          },
          "metadata": {},
          "execution_count": 16
        }
      ]
    },
    {
      "cell_type": "code",
      "source": [
        "typeK = thermocouples['K']\n",
        "typeK.inverse_FmV(1.56, Tref=32.0)"
      ],
      "metadata": {
        "colab": {
          "base_uri": "https://localhost:8080/"
        },
        "id": "dY-xxL6Ubh2K",
        "outputId": "6556422f-9059-4f87-b849-2585179f5d45"
      },
      "execution_count": 22,
      "outputs": [
        {
          "output_type": "execute_result",
          "data": {
            "text/plain": [
              "101.7252628132333"
            ]
          },
          "metadata": {},
          "execution_count": 22
        }
      ]
    },
    {
      "cell_type": "code",
      "source": [
        "typeK.emf_mVF(300, Tref=32.0)"
      ],
      "metadata": {
        "colab": {
          "base_uri": "https://localhost:8080/"
        },
        "id": "C3AWs0JCcOkv",
        "outputId": "d1e865a0-7200-494f-cc71-db03f0692c37"
      },
      "execution_count": 21,
      "outputs": [
        {
          "output_type": "execute_result",
          "data": {
            "text/plain": [
              "6.093577491040232"
            ]
          },
          "metadata": {},
          "execution_count": 21
        }
      ]
    },
    {
      "cell_type": "code",
      "source": [
        "typeJ.inverse_CmV(2.650, Tref=30)"
      ],
      "metadata": {
        "colab": {
          "base_uri": "https://localhost:8080/"
        },
        "id": "pkbvEqJ6kJvo",
        "outputId": "e99df283-be22-4b3a-b714-0023ff6cd602"
      },
      "execution_count": 23,
      "outputs": [
        {
          "output_type": "execute_result",
          "data": {
            "text/plain": [
              "80.0013033678196"
            ]
          },
          "metadata": {},
          "execution_count": 23
        }
      ]
    }
  ]
}
