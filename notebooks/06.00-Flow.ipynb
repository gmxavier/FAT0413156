{
  "nbformat": 4,
  "nbformat_minor": 0,
  "metadata": {
    "kernelspec": {
      "display_name": "Python 3",
      "language": "python",
      "name": "python3"
    },
    "language_info": {
      "codemirror_mode": {
        "name": "ipython",
        "version": 3
      },
      "file_extension": ".py",
      "mimetype": "text/x-python",
      "name": "python",
      "nbconvert_exporter": "python",
      "pygments_lexer": "ipython3",
      "version": "3.7.3"
    },
    "colab": {
      "name": "06.00-Flow.ipynb",
      "provenance": []
    }
  },
  "cells": [
    {
      "cell_type": "markdown",
      "metadata": {
        "id": "-5btTy-RHBIe"
      },
      "source": [
        "<!--NOTEBOOK_HEADER-->\n",
        "*This notebook contains course material from [FAT0413156](https://gmxavier.github.io/FAT0413156)\n",
        "by Gilberto Xavier (gmxavier at fat.uerj.br); the content is available [on Github](https://github.com/gmxavier/FAT0413156.git).\n",
        "The text is released under the [CC-BY-NC-SA-4.0 license](https://creativecommons.org/licenses/by-nc-sa/4.0/legalcode),\n",
        "and code is released under the [MIT license](https://opensource.org/licenses/MIT).*"
      ]
    },
    {
      "cell_type": "markdown",
      "metadata": {
        "id": "sYICmmO3HBIp"
      },
      "source": [
        "<!--NAVIGATION-->\n",
        "< [Temperarure measurement](http://nbviewer.jupyter.org/github/gmxavier/FAT0413156/blob/master/notebooks/05.00-Temperature.ipynb) | [Contents](toc.ipynb) | [Control and safety valves](http://nbviewer.jupyter.org/github/gmxavier/FAT0413156/blob/master/notebooks/07.00-Control-Safety-Valves.ipynb) ><p><a href=\"https://colab.research.google.com/github/gmxavier/FAT0413156/blob/master/notebooks/06.00-Flow.ipynb\" target=\"_parent\"><img align=\"left\" src=\"https://colab.research.google.com/assets/colab-badge.svg\" alt=\"Open in Colab\" title=\"Open in Google Colaboratory\"></a><p><a href=\"https://raw.githubusercontent.com/gmxavier/FAT0413156/master/notebooks/06.00-Flow.ipynb\" target=\"_parent\"><img align=\"left\" src=\"https://img.shields.io/badge/Github-Download-blue.svg\" alt=\"Download\" title=\"Download Notebook\"></a>"
      ]
    },
    {
      "cell_type": "markdown",
      "metadata": {
        "id": "ZOKsKIQWHBIq"
      },
      "source": [
        "# Flow measurement"
      ]
    },
    {
      "cell_type": "markdown",
      "metadata": {
        "id": "47iY7LxqHFcr"
      },
      "source": [
        "## Continuous flow measurement"
      ]
    },
    {
      "cell_type": "markdown",
      "metadata": {
        "id": "fm3ggxLRHLsf"
      },
      "source": [
        "### Pressure-based flowmeters [(Kuphaldt, 2019, p. 1586)](https://www.ibiblio.org/kuphaldt/socratic/sinst/book/liii_2v32.pdf#page=1613)"
      ]
    },
    {
      "cell_type": "markdown",
      "metadata": {
        "id": "8ii-sncZIChS"
      },
      "source": [
        "### Laminar flowmeters [(Kuphaldt, 2019, p. 1652)](https://www.ibiblio.org/kuphaldt/socratic/sinst/book/liii_2v32.pdf#page=1679)"
      ]
    },
    {
      "cell_type": "markdown",
      "metadata": {
        "id": "rMDBsKkXIFoq"
      },
      "source": [
        "### Variable-area flowmeters [(Kuphaldt, 2019, p. 1653)](https://www.ibiblio.org/kuphaldt/socratic/sinst/book/liii_2v32.pdf#page=1680)"
      ]
    },
    {
      "cell_type": "markdown",
      "metadata": {
        "id": "2DM8eNLkIwVg"
      },
      "source": [
        "### Velocity-based flowmeters [(Kuphaldt, 2019, p. 1665)](https://www.ibiblio.org/kuphaldt/socratic/sinst/book/liii_2v32.pdf#page=1692)"
      ]
    },
    {
      "cell_type": "markdown",
      "metadata": {
        "id": "fQshV4ZyJIye"
      },
      "source": [
        "### Positive displacement flowmeters [(Kuphaldt, 2019, p. 1703)](https://www.ibiblio.org/kuphaldt/socratic/sinst/book/liii_2v32.pdf#page=1730)\n"
      ]
    },
    {
      "cell_type": "markdown",
      "metadata": {
        "id": "F0mpBGaeJYw4"
      },
      "source": [
        "### True mass flowmeters [(Kuphaldt, 2019, p. 1712)](https://www.ibiblio.org/kuphaldt/socratic/sinst/book/liii_2v32.pdf#page=1739)"
      ]
    },
    {
      "cell_type": "markdown",
      "metadata": {
        "id": "1ZHBHCWDJqkt"
      },
      "source": [
        "### Weighfeeders [(Kuphaldt, 2019, p. 1734)](https://www.ibiblio.org/kuphaldt/socratic/sinst/book/liii_2v32.pdf#page=1761)"
      ]
    },
    {
      "cell_type": "markdown",
      "metadata": {
        "id": "Sek_mboIJ9dt"
      },
      "source": [
        "### Insertion flowmeters [(Kuphaldt, 2019, p. 1740)](https://www.ibiblio.org/kuphaldt/socratic/sinst/book/liii_2v32.pdf#page=1767)"
      ]
    },
    {
      "cell_type": "markdown",
      "metadata": {
        "id": "b4xqIZY6KTzE"
      },
      "source": [
        "## Discrete flow measurement "
      ]
    },
    {
      "cell_type": "markdown",
      "metadata": {
        "id": "E6BcsjU3KV0-"
      },
      "source": [
        "### Flow switches [(Kuphaldt, 2019, p. 688)](https://www.ibiblio.org/kuphaldt/socratic/sinst/book/liii_2v32.pdf#page=715)"
      ]
    },
    {
      "cell_type": "markdown",
      "metadata": {
        "id": "l5Zg-zChHBIr"
      },
      "source": [
        "## Exercises\n",
        "\n",
        "Try to solve the problems listed [here](https://doc.lagout.org/electronics/Fundamentals%20of%20Industrial%20Instrumentation%20and%20Process%20Control%20%5Bby%20William%20Dunn%5D.pdf) on page 116.\n",
        "\n",
        "Tip: Take a look [here](https://www.ibiblio.org/kuphaldt/socratic/sinst/book/liii_2v32.pdf#page=87) to get some conversion factors."
      ]
    },
    {
      "cell_type": "markdown",
      "metadata": {
        "id": "FDKGkdfcHBIt"
      },
      "source": [
        "<!--NAVIGATION-->\n",
        "< [Temperarure measurement](http://nbviewer.jupyter.org/github/gmxavier/FAT0413156/blob/master/notebooks/05.00-Temperature.ipynb) | [Contents](toc.ipynb) | [Control and safety valves](http://nbviewer.jupyter.org/github/gmxavier/FAT0413156/blob/master/notebooks/07.00-Control-Safety-Valves.ipynb) ><p><a href=\"https://colab.research.google.com/github/gmxavier/FAT0413156/blob/master/notebooks/05.00-Temperature.ipynb\" target=\"_parent\"><img align=\"left\" src=\"https://colab.research.google.com/assets/colab-badge.svg\" alt=\"Open in Colab\" title=\"Open in Google Colaboratory\"></a><p><a href=\"https://raw.githubusercontent.com/gmxavier/FAT0413156/master/notebooks/05.00-Temperature.ipynb\" target=\"_parent\"><img align=\"left\" src=\"https://img.shields.io/badge/Github-Download-blue.svg\" alt=\"Download\" title=\"Download Notebook\"></a>"
      ]
    }
  ]
}