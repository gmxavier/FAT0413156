{
 "cells": [
  {
   "cell_type": "markdown",
   "metadata": {},
   "source": [
    "<!--NOTEBOOK_HEADER-->\n",
    "*This notebook contains course material from [FAT0413156](https://gmxavier.github.io/FAT0413156)\n",
    "by Gilberto Xavier (gilberto.xavier at lps.ufrj.br); the content is available [on Github](https://github.com/gmxavier/FAT0413156.git).\n",
    "The text is released under the [CC-BY-NC-SA-4.0 license](https://creativecommons.org/licenses/by-nc-sa/4.0/legalcode),\n",
    "and code is released under the [MIT license](https://opensource.org/licenses/MIT).*"
   ]
  },
  {
   "cell_type": "markdown",
   "metadata": {},
   "source": [
    "<!--NAVIGATION-->\n",
    "< [Flow measurement](http://nbviewer.jupyter.org/github/gmxavier/FAT0413156/blob/master/notebooks/06.00-Flow.ipynb) | [Contents](toc.ipynb) | [Analytical measurement](http://nbviewer.jupyter.org/github/gmxavier/FAT0413156/blob/master/notebooks/08.00-Analytical.ipynb) ><p><a href=\"https://colab.research.google.com/github/gmxavier/FAT0413156/blob/master/notebooks/05.00-Temperature.ipynb\" target=\"_parent\"><img align=\"left\" src=\"https://colab.research.google.com/assets/colab-badge.svg\" alt=\"Open in Colab\" title=\"Open in Google Colaboratory\"></a><p><a href=\"https://raw.githubusercontent.com/gmxavier/FAT0413156/master/notebooks/05.00-Temperature.ipynb\" target=\"_parent\"><img align=\"left\" src=\"https://img.shields.io/badge/Github-Download-blue.svg\" alt=\"Download\" title=\"Download Notebook\"></a>"
   ]
  },
  {
   "cell_type": "markdown",
   "metadata": {},
   "source": [
    "# Control and safety valves"
   ]
  },
  {
   "cell_type": "markdown",
   "metadata": {},
   "source": [
    "## Control valves\n",
    "\n",
    "Reading: Tony R. Kuphaldt's [*Lessons in Industrial Instrumentation*: Chapter 27](https://www.ibiblio.org/kuphaldt/socratic/sinst/book/liii_2v32.pdf#page=2110)\n",
    "\n",
    "Instructions: Click the link above and read this chapter. Chapter 27 describes the main control valve types used as final control elements.\n",
    "\n",
    "Reading this chapter should take approximately ?? minutes.\n",
    "\n",
    "Terms of use: This work is licensed under terms of the [CC-BY-4.0 license](http://creativecommons.org/licenses/by/4.0/). It is attributed to Tony R. Kuphaldt.\n",
    "\n",
    "Supplementary material:\n",
    "- [Control valve at Wikipedia](https://en.wikipedia.org/wiki/Control_valve)\n",
    "- [Emerson's Control Valve Handbook](https://www.emerson.com/documents/automation/control-valve-handbook-en-3661206.pdf)"
   ]
  },
  {
   "cell_type": "markdown",
   "metadata": {},
   "source": [
    "### Control valve sizing for incompressible fluids by hand\n",
    "\n",
    "Reading: ISA's standard [*ISA-75.01.01-2007 (IEC 60534-2-1 Mod)*: Chapter 6](http://integrated.cc/cse/ISA_750101_SPBd.pdf#page=14).\n",
    "\n",
    "Instructions: Click the link above and read the chapter. Chapter 6 provides athe relationships between flow rates, flow coefficients, related installation factors, and pertinent service conditions for control valves handling incompressible fluids.\n",
    "\n",
    "Reading this section should take approximately ?? minutes.\n",
    "\n",
    "Terms of use: This work is copyrighted by ISA (2007)."
   ]
  },
  {
   "cell_type": "markdown",
   "metadata": {},
   "source": [
    "### Control valve sizing for incompressible fluids using Python\n",
    "\n",
    "The function [`size_control_valve_l`](https://fluids.readthedocs.io/fluids.control_valve.html#rcbc94063f805-1) from the great Caleb Bell's [`fluids`](https://github.com/CalebBell/fluids) package calculates flow coefficient of a control valve passing a liquid according to ISA-75.01.01-2007.\n",
    "\n",
    "Let's try to solve [*ISA-75.01.01-2007 (IEC 60534-2-1 Mod)* Example 1](http://integrated.cc/cse/ISA_750101_SPBd.pdf#page=51).\n",
    "\n",
    "In this case, for a globe, parabolic plug, flow-to-open valve passing water, we have:"
   ]
  },
  {
   "cell_type": "code",
   "execution_count": 14,
   "metadata": {},
   "outputs": [
    {
     "name": "stdout",
     "output_type": "stream",
     "text": [
      "Kv = 165 mˆ3/h\n"
     ]
    }
   ],
   "source": [
    "from fluids.control_valve import size_control_valve_l, Kv_to_Cv\n",
    "\n",
    "Kv = size_control_valve_l(rho=965.4, Psat=70.1E3, Pc=22120E3, mu=3.1472E-4, P1=680E3, P2=220E3, Q=0.1, \n",
    "                          D1=0.15, D2=0.15, d=0.15, FL=0.9, Fd=0.46)\n",
    "\n",
    "print('Kv = %.0f mˆ3/h' % Kv) # hand calculation gives Kv = 165 mˆ3/h"
   ]
  },
  {
   "cell_type": "markdown",
   "metadata": {},
   "source": [
    "Now, with [*ISA-75.01.01-2007 (IEC 60534-2-1 Mod)* Example 2](http://integrated.cc/cse/ISA_750101_SPBd.pdf#page=52) for a ball, segmented ball, flow-to-open valve passing water, we have:"
   ]
  },
  {
   "cell_type": "code",
   "execution_count": 15,
   "metadata": {},
   "outputs": [
    {
     "name": "stdout",
     "output_type": "stream",
     "text": [
      "Kv = 238 mˆ3/h\n"
     ]
    }
   ],
   "source": [
    "Kv = size_control_valve_l(rho=965.4, Psat=70.1E3, Pc=22120E3, mu=3.1472E-4, P1=680E3, P2=220E3, Q=0.1, \n",
    "                     D1=0.1, D2=0.1, d=0.1, FL=0.6, Fd=0.98)\n",
    "\n",
    "print('Kv = %.0f mˆ3/h' % Kv) # hand calculation gives Kv = 238 mˆ3/h"
   ]
  },
  {
   "cell_type": "markdown",
   "metadata": {},
   "source": [
    "To illustrate a more complex case, we borrow an example from [Emerson's Control Valve Handbook](https://www.emerson.com/documents/automation/control-valve-handbook-en-3661206.pdf#page=102). It involves a flow of 800 gpm of liquid propane. The inlet and outlet pipe size is 8 inches, but the size of the valve itself is unknown. The desired pressure drop is 25 psi.\n",
    "\n",
    "Using the [`scipy`](https://www.scipy.org/) package to converting this problem to SI units and the other great Caleb Bell's [`thermo`](https://github.com/CalebBell/thermo) package to obtain the necessary properties of the fluid, we calculate the necessary Kv of the valve based on an assumed valve size of 3 inches:"
   ]
  },
  {
   "cell_type": "code",
   "execution_count": 30,
   "metadata": {},
   "outputs": [],
   "source": [
    "from scipy.constants import *\n",
    "from thermo.chemical import Chemical\n",
    "\n",
    "P1 = 300*psi + 14.7*psi # to Pa\n",
    "P2 = 275*psi + 14.7*psi # to Pa\n",
    "T = 273.15 + 21 # to K\n",
    "\n",
    "propane = Chemical('propane', P=(P1+P2)/2, T=T)\n",
    "rho = propane.rho\n",
    "Psat = propane.Psat\n",
    "Pc = propane.Pc\n",
    "mu = propane.mu\n",
    "\n",
    "Q = 800*gallon/minute # to m^3/s\n",
    "D1 = D2 = 8*inch # to m\n",
    "d = 3*inch # to m"
   ]
  },
  {
   "cell_type": "markdown",
   "metadata": {},
   "source": [
    "The standard specifies two more parameters specific to a valve:\n",
    "\n",
    "- FL, Liquid pressure recovery factor of a control valve without attached fittings\n",
    "- Fd, Valve style modifier\n",
    "\n",
    "Both of these are factors between 0 and 1. In the borrowed example, they are not considered in the sizing procedure and set to 1. These factors are also a function of the diameter of the valve and are normally tabulated next to the values of Cv or Kv for a valve. Again, using `size_control_valve_l` to solve for the flow coefficient:"
   ]
  },
  {
   "cell_type": "code",
   "execution_count": 31,
   "metadata": {},
   "outputs": [
    {
     "name": "stdout",
     "output_type": "stream",
     "text": [
      "Cv = 126.5\n"
     ]
    }
   ],
   "source": [
    "Kv = size_control_valve_l(rho, Psat, Pc, mu, P1, P2, Q, D1, D2, d, FL=1, Fd=1)\n",
    "\n",
    "print('Cv = %.1f' % Kv_to_Cv(Kv=Kv)) # hand calculation gives Cv = 125.7"
   ]
  },
  {
   "cell_type": "markdown",
   "metadata": {},
   "source": [
    "As this value exceeds the capacity of the assumed valve, which has a Cv of 121, we will need to try a larger valve size."
   ]
  },
  {
   "cell_type": "code",
   "execution_count": 32,
   "metadata": {},
   "outputs": [
    {
     "name": "stdout",
     "output_type": "stream",
     "text": [
      "Cv = 116.2\n"
     ]
    }
   ],
   "source": [
    "d = 4*inch # to m\n",
    "Kv = size_control_valve_l(rho, Psat, Pc, mu, P1, P2, Q, D1, D2, d, FL=1, Fd=1)\n",
    "\n",
    "print('Cv = %.1f' % Kv_to_Cv(Kv=Kv)) # hand calculation gives Cv = 125.7"
   ]
  },
  {
   "cell_type": "markdown",
   "metadata": {},
   "source": [
    "As the new calculated Cv is well under the larger valve’s maximum Cv, which has a Cv of 203, we can select this larger valve size.\n",
    "\n",
    "This model requires a vapor pressure and a critical pressure of the fluid as inputs. There is no clarification in the standard about how to handle mixtures, which do not have these values. It is reasonable to calculate vapor pressure as the bubble pressure, and the mixture’s critical pressure through a mole-weighted average.\n",
    "\n",
    "For actual values of Cv, Fl, Fd, and available diameters, an excellent resource is the [Fisher Catalog #12](http://www.documentation.emersonprocess.com/groups/public/documents/catalog/cat12_s1.pdf)."
   ]
  },
  {
   "cell_type": "markdown",
   "metadata": {},
   "source": [
    "### Control valve sizing for compressible fluids by hand\n",
    "\n",
    "Reading: ISA's standard [*ISA-75.01.01-2007 (IEC 60534-2-1 Mod)*: Chapter 7](http://integrated.cc/cse/ISA_750101_SPBd.pdf#page=16).\n",
    "\n",
    "Instructions: Click the link above and read the chapter. Chapter 7 provides athe relationships between flow rates, flow coefficients, related installation factors, and pertinent service conditions for control valves handling compressible fluids.\n",
    "\n",
    "Reading this section should take approximately ?? minutes.\n",
    "\n",
    "Terms of use: This work is copyrighted by ISA (2007)."
   ]
  },
  {
   "cell_type": "markdown",
   "metadata": {},
   "source": [
    "### Control valve sizing for compressible fluids using Python\n",
    "\n",
    "The function [`size_control_valve_g`](https://fluids.readthedocs.io/fluids.control_valve.html#rcbc94063f805-1) from the great Caleb Bell's [`fluids`](https://github.com/CalebBell/fluids) package calculates flow coefficient of a control valve passing a liquid according to ISA-75.01.01-2007.\n",
    "\n",
    "From [*ISA-75.01.01-2007 (IEC 60534-2-1 Mod)* Example 3](http://integrated.cc/cse/ISA_750101_SPBd.pdf#page=55) for non-choked gas flow with attached fittings and a rotary, eccentric plug, flow-to-open control valve passing carbon dioxide, we have:"
   ]
  },
  {
   "cell_type": "code",
   "execution_count": 33,
   "metadata": {},
   "outputs": [
    {
     "name": "stdout",
     "output_type": "stream",
     "text": [
      "Kv = 72.6 mˆ3/h\n"
     ]
    }
   ],
   "source": [
    "from fluids.control_valve import size_control_valve_g\n",
    "\n",
    "Kv = size_control_valve_g(T=433., MW=44.01, mu=1.4665E-4, gamma=1.30, Z=0.988, P1=680E3, P2=310E3, Q=38/36., \n",
    "                          D1=0.08, D2=0.1, d=0.05,FL=0.85, Fd=0.42, xT=0.60)\n",
    "\n",
    "print('Kv = %.1f mˆ3/h' % Kv) # hand calculation gives Kv = 72.1 m3/h"
   ]
  },
  {
   "cell_type": "markdown",
   "metadata": {},
   "source": [
    "From [*ISA-75.01.01-2007 (IEC 60534-2-1 Mod)* Example 4](http://integrated.cc/cse/ISA_750101_SPBd.pdf#page=60) for a small flow trim sized tapered needle plug valve passing water, we have:"
   ]
  },
  {
   "cell_type": "code",
   "execution_count": 34,
   "metadata": {},
   "outputs": [
    {
     "name": "stdout",
     "output_type": "stream",
     "text": [
      "Kv = 0.0165 mˆ3/h\n"
     ]
    }
   ],
   "source": [
    "Kv = size_control_valve_g(T=320., MW=39.95, mu=5.625E-5, gamma=1.67, Z=1.0, P1=2.8E5, P2=1.3E5, Q=0.46/3600., \n",
    "                          D1=0.015, D2=0.015, d=0.015, FL=0.98, Fd=0.07, xT=0.8)\n",
    "\n",
    "print('Kv = %.4f mˆ3/h' % Kv) # hand calculation gives Cv = 0.0184"
   ]
  },
  {
   "cell_type": "markdown",
   "metadata": {},
   "source": [
    "## Safety valves\n",
    "\n",
    "Reading: Tony R. Kuphaldt's [*Lessons in Industrial Instrumentation*: Section 32.5](https://www.ibiblio.org/kuphaldt/socratic/sinst/book/liii_2v32.pdf#page=2687)\n",
    "\n",
    "Instructions: Click the link above and read this section. Section 32.5 provides a glance about overpressure safety devices including safety valves.\n",
    "\n",
    "Reading this section should take approximately ?? minutes.\n",
    "\n",
    "Terms of use: This work is licensed under terms of the [CC-BY-4.0 license](http://creativecommons.org/licenses/by/4.0/). It is attributed to Tony R. Kuphaldt.\n",
    "\n",
    "## Exercises\n",
    "\n",
    "Try to solve the related problems listed [here](https://doc.lagout.org/electronics/Fundamentals%20of%20Industrial%20Instrumentation%20and%20Process%20Control%20%5Bby%20William%20Dunn%5D.pdf) on page 198."
   ]
  },
  {
   "cell_type": "markdown",
   "metadata": {},
   "source": [
    "<!--NAVIGATION-->\n",
    "< [Flow measurement](http://nbviewer.jupyter.org/github/gmxavier/FAT0413156/blob/master/notebooks/06.00-Flow.ipynb) | [Contents](toc.ipynb) | [Analytical measurement](http://nbviewer.jupyter.org/github/gmxavier/FAT0413156/blob/master/notebooks/08.00-Analytical.ipynb) ><p><a href=\"https://colab.research.google.com/github/gmxavier/FAT0413156/blob/master/notebooks/05.00-Temperature.ipynb\" target=\"_parent\"><img align=\"left\" src=\"https://colab.research.google.com/assets/colab-badge.svg\" alt=\"Open in Colab\" title=\"Open in Google Colaboratory\"></a><p><a href=\"https://raw.githubusercontent.com/gmxavier/FAT0413156/master/notebooks/05.00-Temperature.ipynb\" target=\"_parent\"><img align=\"left\" src=\"https://img.shields.io/badge/Github-Download-blue.svg\" alt=\"Download\" title=\"Download Notebook\"></a>"
   ]
  }
 ],
 "metadata": {
  "kernelspec": {
   "display_name": "Python 3",
   "language": "python",
   "name": "python3"
  },
  "language_info": {
   "codemirror_mode": {
    "name": "ipython",
    "version": 3
   },
   "file_extension": ".py",
   "mimetype": "text/x-python",
   "name": "python",
   "nbconvert_exporter": "python",
   "pygments_lexer": "ipython3",
   "version": "3.7.3"
  }
 },
 "nbformat": 4,
 "nbformat_minor": 2
}
