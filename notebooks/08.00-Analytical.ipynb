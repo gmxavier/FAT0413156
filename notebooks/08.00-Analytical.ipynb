{
  "nbformat": 4,
  "nbformat_minor": 0,
  "metadata": {
    "kernelspec": {
      "display_name": "Python 3",
      "language": "python",
      "name": "python3"
    },
    "language_info": {
      "codemirror_mode": {
        "name": "ipython",
        "version": 3
      },
      "file_extension": ".py",
      "mimetype": "text/x-python",
      "name": "python",
      "nbconvert_exporter": "python",
      "pygments_lexer": "ipython3",
      "version": "3.7.3"
    },
    "colab": {
      "name": "08.00-Analytical.ipynb",
      "provenance": []
    }
  },
  "cells": [
    {
      "cell_type": "markdown",
      "metadata": {
        "id": "N65_JSt-3vgO"
      },
      "source": [
        "<!--NOTEBOOK_HEADER-->\n",
        "*This notebook contains course material from [FAT0413156](https://gmxavier.github.io/FAT0413156)\n",
        "by Gilberto Xavier (gmxavier at fat.uerj.br); the content is available [on Github](https://github.com/gmxavier/FAT0413156.git).\n",
        "The text is released under the [CC-BY-NC-SA-4.0 license](https://creativecommons.org/licenses/by-nc-sa/4.0/legalcode),\n",
        "and code is released under the [MIT license](https://opensource.org/licenses/MIT).*"
      ]
    },
    {
      "cell_type": "markdown",
      "metadata": {
        "id": "9b5YNa643vgX"
      },
      "source": [
        "<!--NAVIGATION-->\n",
        "< [Flow measurement](http://nbviewer.jupyter.org/github/gmxavier/FAT0413156/blob/master/notebooks/06.00-Flow.ipynb) | [Contents](toc.ipynb) | <p><a href=\"https://colab.research.google.com/github/gmxavier/FAT0413156/blob/master/notebooks/08.00-Analytical.ipynb\" target=\"_parent\"><img align=\"left\" src=\"https://colab.research.google.com/assets/colab-badge.svg\" alt=\"Open in Colab\" title=\"Open in Google Colaboratory\"></a><p><a href=\"https://raw.githubusercontent.com/gmxavier/FAT0413156/master/notebooks/08.00-Analytical.ipynb\" target=\"_parent\"><img align=\"left\" src=\"https://img.shields.io/badge/Github-Download-blue.svg\" alt=\"Download\" title=\"Download Notebook\"></a>"
      ]
    },
    {
      "cell_type": "markdown",
      "metadata": {
        "id": "TCsqeOqO3vgY"
      },
      "source": [
        "# Analytical measurement"
      ]
    },
    {
      "cell_type": "markdown",
      "metadata": {
        "id": "5vK0aJS330cP"
      },
      "source": [
        "## Conductivity measurement ([Kuphaldt, 2019, p. 1755](https://www.ibiblio.org/kuphaldt/socratic/sinst/book/liii_2v32.pdf#page=1782))"
      ]
    },
    {
      "cell_type": "markdown",
      "metadata": {
        "id": "0N0COEoT4Nd2"
      },
      "source": [
        "## pH measurement ([Kuphaldt, 2019, p. 1765](https://www.ibiblio.org/kuphaldt/socratic/sinst/book/liii_2v32.pdf#page=1792))"
      ]
    },
    {
      "cell_type": "markdown",
      "metadata": {
        "id": "fOVM80fN4mKD"
      },
      "source": [
        "## Chromatography ([Kuphaldt, 2019, p. 1788](https://www.ibiblio.org/kuphaldt/socratic/sinst/book/liii_2v32.pdf#page=1815))"
      ]
    },
    {
      "cell_type": "markdown",
      "metadata": {
        "id": "11YUMW8k3vga"
      },
      "source": [
        "<!--NAVIGATION-->\n",
        "< [Flow measurement](http://nbviewer.jupyter.org/github/gmxavier/FAT0413156/blob/master/notebooks/06.00-Flow.ipynb) | [Contents](toc.ipynb) | <p><a href=\"https://colab.research.google.com/github/gmxavier/FAT0413156/blob/master/notebooks/05.00-Temperature.ipynb\" target=\"_parent\"><img align=\"left\" src=\"https://colab.research.google.com/assets/colab-badge.svg\" alt=\"Open in Colab\" title=\"Open in Google Colaboratory\"></a><p><a href=\"https://raw.githubusercontent.com/gmxavier/FAT0413156/master/notebooks/05.00-Temperature.ipynb\" target=\"_parent\"><img align=\"left\" src=\"https://img.shields.io/badge/Github-Download-blue.svg\" alt=\"Download\" title=\"Download Notebook\"></a>"
      ]
    }
  ]
}