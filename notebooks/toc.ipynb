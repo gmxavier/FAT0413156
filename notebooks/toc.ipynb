{
 "cells": [
  {
   "cell_type": "markdown",
   "metadata": {},
   "source": [
    "# [FAT0413156](https://gmxavier.github.io/FAT0413156)\n",
    "\n",
    "\n",
    "## [Chapter 1.0 Getting started](http://nbviewer.jupyter.org/github/gmxavier/FAT0413156/blob/master/notebooks/01.00-Getting-Started.ipynb)\n",
    "\n",
    "## [Chapter 2.0 Introduction](http://nbviewer.jupyter.org/github/gmxavier/FAT0413156/blob/master/notebooks/02.00-Introduction.ipynb)\n",
    "\n",
    "## [Chapter 3.0 Pressure measurement](http://nbviewer.jupyter.org/github/gmxavier/FAT0413156/blob/master/notebooks/03.00-Pressure.ipynb)\n",
    "\n",
    "## [Chapter 4.0 Level measurement](http://nbviewer.jupyter.org/github/gmxavier/FAT0413156/blob/master/notebooks/04.00-Level.ipynb)\n",
    "\n",
    "## [Chapter 5.0 Temperature measurement](http://nbviewer.jupyter.org/github/gmxavier/FAT0413156/blob/master/notebooks/05.00-Temperature.ipynb)\n",
    "\n",
    "## [Chapter 6.0 Flow measurement](http://nbviewer.jupyter.org/github/gmxavier/FAT0413156/blob/master/notebooks/06.00-Flow.ipynb)\n",
    "\n",
    "## [Chapter 7.0 Control and safety valves](http://nbviewer.jupyter.org/github/gmxavier/FAT0413156/blob/master/notebooks/07.00-Control-Safety-Valves.ipynb)\n",
    "\n",
    "## [Chapter 8.0 Analytical measurement](http://nbviewer.jupyter.org/github/gmxavier/FAT0413156/blob/master/notebooks/08.00-Analytical.ipynb)"
   ]
  }
 ],
 "metadata": {
  "kernelspec": {
   "display_name": "Python 3",
   "language": "python",
   "name": "python3"
  },
  "language_info": {
   "codemirror_mode": {
    "name": "ipython",
    "version": 3
   },
   "file_extension": ".py",
   "mimetype": "text/x-python",
   "name": "python",
   "nbconvert_exporter": "python",
   "pygments_lexer": "ipython3",
   "version": "3.7.3"
  }
 },
 "nbformat": 4,
 "nbformat_minor": 2
}
